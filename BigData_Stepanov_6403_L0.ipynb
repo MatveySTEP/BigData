{
  "nbformat": 4,
  "nbformat_minor": 0,
  "metadata": {
    "colab": {
      "provenance": [],
      "include_colab_link": true
    },
    "kernelspec": {
      "name": "python3",
      "display_name": "Python 3"
    }
  },
  "cells": [
    {
      "cell_type": "markdown",
      "metadata": {
        "id": "view-in-github",
        "colab_type": "text"
      },
      "source": [
        "<a href=\"https://colab.research.google.com/github/MatveySTEP/BigData/blob/main/BIgData_Stepanov_6403.ipynb\" target=\"_parent\"><img src=\"https://colab.research.google.com/assets/colab-badge.svg\" alt=\"Open In Colab\"/></a>"
      ]
    },
    {
      "cell_type": "markdown",
      "metadata": {
        "id": "82OvPKEiEqjc"
      },
      "source": [
        "# Введение в MapReduce модель на Python\n"
      ]
    },
    {
      "cell_type": "code",
      "metadata": {
        "id": "JQ2cvXLjICmI"
      },
      "source": [
        "from typing import NamedTuple # requires python 3.6+\n",
        "from typing import Iterator"
      ],
      "execution_count": 1,
      "outputs": []
    },
    {
      "cell_type": "code",
      "metadata": {
        "id": "yjPHumVwEyEg"
      },
      "source": [
        "def MAP(_, row:NamedTuple):\n",
        "  if (row.gender == 'female'):\n",
        "    yield (row.age, row)\n",
        "\n",
        "def REDUCE(age:str, rows:Iterator[NamedTuple]):\n",
        "  sum = 0\n",
        "  count = 0\n",
        "  for row in rows:\n",
        "    sum += row.social_contacts\n",
        "    count += 1\n",
        "  if (count > 0):\n",
        "    yield (age, sum/count)\n",
        "  else:\n",
        "    yield (age, 0)"
      ],
      "execution_count": 2,
      "outputs": []
    },
    {
      "cell_type": "markdown",
      "metadata": {
        "id": "vBKMgpG_ilaZ"
      },
      "source": [
        "Модель элемента данных"
      ]
    },
    {
      "cell_type": "code",
      "metadata": {
        "id": "Rv-XIjhTJPx3"
      },
      "source": [
        "class User(NamedTuple):\n",
        "  id: int\n",
        "  age: str\n",
        "  social_contacts: int\n",
        "  gender: str"
      ],
      "execution_count": 3,
      "outputs": []
    },
    {
      "cell_type": "code",
      "metadata": {
        "id": "5KV0Ze2vQgu5"
      },
      "source": [
        "input_collection = [\n",
        "    User(id=0, age=55, gender='male', social_contacts=20),\n",
        "    User(id=1, age=25, gender='female', social_contacts=240),\n",
        "    User(id=2, age=25, gender='female', social_contacts=500),\n",
        "    User(id=3, age=33, gender='female', social_contacts=800)\n",
        "]"
      ],
      "execution_count": 4,
      "outputs": []
    },
    {
      "cell_type": "markdown",
      "metadata": {
        "id": "YFeqzyZxZIFZ"
      },
      "source": [
        "Функция RECORDREADER моделирует чтение элементов с диска или по сети."
      ]
    },
    {
      "cell_type": "code",
      "metadata": {
        "id": "S5HR4E_GQoMJ"
      },
      "source": [
        "def RECORDREADER():\n",
        "  return [(u.id, u) for u in input_collection]"
      ],
      "execution_count": 5,
      "outputs": []
    },
    {
      "cell_type": "code",
      "metadata": {
        "id": "NeEoWla-ROUy",
        "colab": {
          "base_uri": "https://localhost:8080/"
        },
        "outputId": "fc5cdde6-9716-4472-ea63-4ddb7f934803"
      },
      "source": [
        "list(RECORDREADER())"
      ],
      "execution_count": 6,
      "outputs": [
        {
          "output_type": "execute_result",
          "data": {
            "text/plain": [
              "[(0, User(id=0, age=55, social_contacts=20, gender='male')),\n",
              " (1, User(id=1, age=25, social_contacts=240, gender='female')),\n",
              " (2, User(id=2, age=25, social_contacts=500, gender='female')),\n",
              " (3, User(id=3, age=33, social_contacts=800, gender='female'))]"
            ]
          },
          "metadata": {},
          "execution_count": 6
        }
      ]
    },
    {
      "cell_type": "code",
      "metadata": {
        "id": "YB8orgPSZs8M"
      },
      "source": [
        "def flatten(nested_iterable):\n",
        "  for iterable in nested_iterable:\n",
        "    for element in iterable:\n",
        "      yield element"
      ],
      "execution_count": 7,
      "outputs": []
    },
    {
      "cell_type": "code",
      "metadata": {
        "id": "74oyvDLaRmd5",
        "colab": {
          "base_uri": "https://localhost:8080/"
        },
        "outputId": "8d603ae4-df27-442e-c81d-0cee9347c9d1"
      },
      "source": [
        "map_output = flatten(map(lambda x: MAP(*x), RECORDREADER()))\n",
        "map_output = list(map_output) # materialize\n",
        "map_output"
      ],
      "execution_count": 8,
      "outputs": [
        {
          "output_type": "execute_result",
          "data": {
            "text/plain": [
              "[(25, User(id=1, age=25, social_contacts=240, gender='female')),\n",
              " (25, User(id=2, age=25, social_contacts=500, gender='female')),\n",
              " (33, User(id=3, age=33, social_contacts=800, gender='female'))]"
            ]
          },
          "metadata": {},
          "execution_count": 8
        }
      ]
    },
    {
      "cell_type": "code",
      "metadata": {
        "id": "8ncYDJ3-VzDn"
      },
      "source": [
        "def groupbykey(iterable):\n",
        "  t = {}\n",
        "  for (k2, v2) in iterable:\n",
        "    t[k2] = t.get(k2, []) + [v2]\n",
        "  return t.items()"
      ],
      "execution_count": 9,
      "outputs": []
    },
    {
      "cell_type": "code",
      "metadata": {
        "id": "cKzY_6COWOA2",
        "colab": {
          "base_uri": "https://localhost:8080/"
        },
        "outputId": "6a553acc-7379-469a-d5da-f4567e04e15a"
      },
      "source": [
        "shuffle_output = groupbykey(map_output)\n",
        "shuffle_output = list(shuffle_output)\n",
        "shuffle_output"
      ],
      "execution_count": 10,
      "outputs": [
        {
          "output_type": "execute_result",
          "data": {
            "text/plain": [
              "[(25,\n",
              "  [User(id=1, age=25, social_contacts=240, gender='female'),\n",
              "   User(id=2, age=25, social_contacts=500, gender='female')]),\n",
              " (33, [User(id=3, age=33, social_contacts=800, gender='female')])]"
            ]
          },
          "metadata": {},
          "execution_count": 10
        }
      ]
    },
    {
      "cell_type": "code",
      "metadata": {
        "id": "NlA7lkDDYL0t",
        "colab": {
          "base_uri": "https://localhost:8080/"
        },
        "outputId": "f3fe8bd3-ae29-47c8-9d43-c81d04ab1f2f"
      },
      "source": [
        "reduce_output = flatten(map(lambda x: REDUCE(*x), shuffle_output))\n",
        "reduce_output = list(reduce_output)\n",
        "reduce_output"
      ],
      "execution_count": 11,
      "outputs": [
        {
          "output_type": "execute_result",
          "data": {
            "text/plain": [
              "[(25, 370.0), (33, 800.0)]"
            ]
          },
          "metadata": {},
          "execution_count": 11
        }
      ]
    },
    {
      "cell_type": "markdown",
      "metadata": {
        "id": "xf6qhHEtd6bI"
      },
      "source": [
        "Все действия одним конвейером!"
      ]
    },
    {
      "cell_type": "code",
      "metadata": {
        "id": "dZaQGYxCdpw5",
        "colab": {
          "base_uri": "https://localhost:8080/"
        },
        "outputId": "acb2bd7a-22d4-4aed-8bca-f21895ef9c37"
      },
      "source": [
        "list(flatten(map(lambda x: REDUCE(*x), groupbykey(flatten(map(lambda x: MAP(*x), RECORDREADER()))))))"
      ],
      "execution_count": 12,
      "outputs": [
        {
          "output_type": "execute_result",
          "data": {
            "text/plain": [
              "[(25, 370.0), (33, 800.0)]"
            ]
          },
          "metadata": {},
          "execution_count": 12
        }
      ]
    },
    {
      "cell_type": "markdown",
      "metadata": {
        "id": "Vq3EWRIpwSiJ"
      },
      "source": [
        "# **MapReduce**\n",
        "Выделим общую для всех пользователей часть системы в отдельную функцию высшего порядка. Это наиболее простая модель MapReduce, без учёта распределённого хранения данных.\n",
        "\n",
        "Пользователь для решения своей задачи реализует RECORDREADER, MAP, REDUCE."
      ]
    },
    {
      "cell_type": "code",
      "metadata": {
        "id": "V1PZeQMwwVjc"
      },
      "source": [
        "def flatten(nested_iterable):\n",
        "  for iterable in nested_iterable:\n",
        "    for element in iterable:\n",
        "      yield element\n",
        "\n",
        "def groupbykey(iterable):\n",
        "  t = {}\n",
        "  for (k2, v2) in iterable:\n",
        "    t[k2] = t.get(k2, []) + [v2]\n",
        "  return t.items()\n",
        "\n",
        "def MapReduce(RECORDREADER, MAP, REDUCE):\n",
        "  return flatten(map(lambda x: REDUCE(*x), groupbykey(flatten(map(lambda x: MAP(*x), RECORDREADER())))))"
      ],
      "execution_count": 13,
      "outputs": []
    },
    {
      "cell_type": "markdown",
      "metadata": {
        "id": "iFIVrimep678"
      },
      "source": [
        "## Спецификация MapReduce\n",
        "\n",
        "\n",
        "\n",
        "```\n",
        "f (k1, v1) -> (k2,v2)*\n",
        "g (k2, v2*) -> (k3,v3)*\n",
        "\n",
        "mapreduce ((k1,v1)*) -> (k3,v3)*\n",
        "groupby ((k2,v2)*) -> (k2,v2*)*\n",
        "flatten (e2**) -> e2*\n",
        "\n",
        "mapreduce .map(f).flatten.groupby(k2).map(g).flatten\n",
        "```\n",
        "\n",
        "\n"
      ]
    },
    {
      "cell_type": "markdown",
      "metadata": {
        "id": "QtTFyqke3KGe"
      },
      "source": [
        "# Примеры"
      ]
    },
    {
      "cell_type": "markdown",
      "metadata": {
        "id": "BNhh5763w5Vn"
      },
      "source": [
        "## SQL"
      ]
    },
    {
      "cell_type": "code",
      "metadata": {
        "id": "QkyurnvGxBGk",
        "colab": {
          "base_uri": "https://localhost:8080/"
        },
        "outputId": "c4f802a5-120b-4aa0-98c0-ec72183a4142"
      },
      "source": [
        "from typing import NamedTuple # requires python 3.6+\n",
        "from typing import Iterator\n",
        "\n",
        "class User(NamedTuple):\n",
        "  id: int\n",
        "  age: str\n",
        "  social_contacts: int\n",
        "  gender: str\n",
        "\n",
        "input_collection = [\n",
        "    User(id=0, age=55, gender='male', social_contacts=20),\n",
        "    User(id=1, age=25, gender='female', social_contacts=240),\n",
        "    User(id=2, age=25, gender='female', social_contacts=500),\n",
        "    User(id=3, age=33, gender='female', social_contacts=800)\n",
        "]\n",
        "\n",
        "def MAP(_, row:NamedTuple):\n",
        "  if (row.gender == 'female'):\n",
        "    yield (row.age, row)\n",
        "\n",
        "def REDUCE(age:str, rows:Iterator[NamedTuple]):\n",
        "  sum = 0\n",
        "  count = 0\n",
        "  for row in rows:\n",
        "    sum += row.social_contacts\n",
        "    count += 1\n",
        "  if (count > 0):\n",
        "    yield (age, sum/count)\n",
        "  else:\n",
        "    yield (age, 0)\n",
        "\n",
        "def RECORDREADER():\n",
        "  return [(u.id, u) for u in input_collection]\n",
        "\n",
        "output = MapReduce(RECORDREADER, MAP, REDUCE)\n",
        "output = list(output)\n",
        "output"
      ],
      "execution_count": 14,
      "outputs": [
        {
          "output_type": "execute_result",
          "data": {
            "text/plain": [
              "[(25, 370.0), (33, 800.0)]"
            ]
          },
          "metadata": {},
          "execution_count": 14
        }
      ]
    },
    {
      "cell_type": "markdown",
      "metadata": {
        "id": "kNKYIeerx0nY"
      },
      "source": [
        "## Matrix-Vector multiplication"
      ]
    },
    {
      "cell_type": "code",
      "metadata": {
        "id": "rwcntRcCyi1V",
        "colab": {
          "base_uri": "https://localhost:8080/"
        },
        "outputId": "47ad4a0d-f3c9-4c75-d9fc-e2885a0d1740"
      },
      "source": [
        "from typing import Iterator\n",
        "import numpy as np\n",
        "\n",
        "mat = np.ones((5,4))\n",
        "vec = np.random.rand(4) # in-memory vector in all map tasks\n",
        "\n",
        "def MAP(coordinates:(int, int), value:int):\n",
        "  i, j = coordinates\n",
        "  yield (i, value*vec[j])\n",
        "\n",
        "def REDUCE(i:int, products:Iterator[NamedTuple]):\n",
        "  sum = 0\n",
        "  for p in products:\n",
        "    sum += p\n",
        "  yield (i, sum)\n",
        "\n",
        "def RECORDREADER():\n",
        "  for i in range(mat.shape[0]):\n",
        "    for j in range(mat.shape[1]):\n",
        "      yield ((i, j), mat[i,j])\n",
        "\n",
        "output = MapReduce(RECORDREADER, MAP, REDUCE)\n",
        "output = list(output)\n",
        "output"
      ],
      "execution_count": 15,
      "outputs": [
        {
          "output_type": "execute_result",
          "data": {
            "text/plain": [
              "[(0, 2.3359661451543126),\n",
              " (1, 2.3359661451543126),\n",
              " (2, 2.3359661451543126),\n",
              " (3, 2.3359661451543126),\n",
              " (4, 2.3359661451543126)]"
            ]
          },
          "metadata": {},
          "execution_count": 15
        }
      ]
    },
    {
      "cell_type": "markdown",
      "metadata": {
        "id": "ruZREYdi2o4O"
      },
      "source": [
        "## Inverted index"
      ]
    },
    {
      "cell_type": "code",
      "metadata": {
        "id": "vt9H9Alf3TYv",
        "colab": {
          "base_uri": "https://localhost:8080/"
        },
        "outputId": "e4e76177-14b1-4eca-e45b-f902dff74410"
      },
      "source": [
        "from typing import Iterator\n",
        "\n",
        "d1 = \"it is what it is\"\n",
        "d2 = \"what is it\"\n",
        "d3 = \"it is a banana\"\n",
        "documents = [d1, d2, d3]\n",
        "\n",
        "def RECORDREADER():\n",
        "  for (docid, document) in enumerate(documents):\n",
        "    yield (\"{}\".format(docid), document)\n",
        "\n",
        "def MAP(docId:str, body:str):\n",
        "  for word in set(body.split(' ')):\n",
        "    yield (word, docId)\n",
        "\n",
        "def REDUCE(word:str, docIds:Iterator[str]):\n",
        "  yield (word, sorted(docIds))\n",
        "\n",
        "output = MapReduce(RECORDREADER, MAP, REDUCE)\n",
        "output = list(output)\n",
        "output"
      ],
      "execution_count": 16,
      "outputs": [
        {
          "output_type": "execute_result",
          "data": {
            "text/plain": [
              "[('is', ['0', '1', '2']),\n",
              " ('it', ['0', '1', '2']),\n",
              " ('what', ['0', '1']),\n",
              " ('a', ['2']),\n",
              " ('banana', ['2'])]"
            ]
          },
          "metadata": {},
          "execution_count": 16
        }
      ]
    },
    {
      "cell_type": "markdown",
      "metadata": {
        "id": "R7az-6DA6qr2"
      },
      "source": [
        "## WordCount"
      ]
    },
    {
      "cell_type": "code",
      "metadata": {
        "id": "dN-nbtgG6uYG",
        "colab": {
          "base_uri": "https://localhost:8080/"
        },
        "outputId": "ed806738-32dd-4f0b-dabf-5a424b815cda"
      },
      "source": [
        "from typing import Iterator\n",
        "\n",
        "d1 = \"\"\"\n",
        "it is what it is\n",
        "it is what it is\n",
        "it is what it is\"\"\"\n",
        "d2 = \"\"\"\n",
        "what is it\n",
        "what is it\"\"\"\n",
        "d3 = \"\"\"\n",
        "it is a banana\"\"\"\n",
        "documents = [d1, d2, d3]\n",
        "\n",
        "def RECORDREADER():\n",
        "  for (docid, document) in enumerate(documents):\n",
        "    for (lineid, line) in enumerate(document.split('\\n')):\n",
        "      yield (\"{}:{}\".format(docid,lineid), line)\n",
        "\n",
        "def MAP(docId:str, line:str):\n",
        "  for word in line.split(\" \"):\n",
        "    yield (word, 1)\n",
        "\n",
        "def REDUCE(word:str, counts:Iterator[int]):\n",
        "  sum = 0\n",
        "  for c in counts:\n",
        "    sum += c\n",
        "  yield (word, sum)\n",
        "\n",
        "output = MapReduce(RECORDREADER, MAP, REDUCE)\n",
        "output = list(output)\n",
        "output"
      ],
      "execution_count": 17,
      "outputs": [
        {
          "output_type": "execute_result",
          "data": {
            "text/plain": [
              "[('', 3), ('it', 9), ('is', 9), ('what', 5), ('a', 1), ('banana', 1)]"
            ]
          },
          "metadata": {},
          "execution_count": 17
        }
      ]
    },
    {
      "cell_type": "markdown",
      "metadata": {
        "id": "h-jRAcYCAkkk"
      },
      "source": [
        "# MapReduce Distributed\n",
        "\n",
        "Добавляется в модель фабрика RECORDREARER-ов --- INPUTFORMAT, функция распределения промежуточных результатов по партициям PARTITIONER, и функция COMBINER для частичной аггрегации промежуточных результатов до распределения по новым партициям."
      ]
    },
    {
      "cell_type": "code",
      "metadata": {
        "id": "nw-b-xJsApgW"
      },
      "source": [
        "def flatten(nested_iterable):\n",
        "  for iterable in nested_iterable:\n",
        "    for element in iterable:\n",
        "      yield element\n",
        "\n",
        "def groupbykey(iterable):\n",
        "  t = {}\n",
        "  for (k2, v2) in iterable:\n",
        "    t[k2] = t.get(k2, []) + [v2]\n",
        "  return t.items()\n",
        "\n",
        "def groupbykey_distributed(map_partitions, PARTITIONER):\n",
        "  global reducers\n",
        "  partitions = [dict() for _ in range(reducers)]\n",
        "  for map_partition in map_partitions:\n",
        "    for (k2, v2) in map_partition:\n",
        "      p = partitions[PARTITIONER(k2)]\n",
        "      p[k2] = p.get(k2, []) + [v2]\n",
        "  return [(partition_id, sorted(partition.items(), key=lambda x: x[0])) for (partition_id, partition) in enumerate(partitions)]\n",
        "\n",
        "def PARTITIONER(obj):\n",
        "  global reducers\n",
        "  return hash(obj) % reducers\n",
        "\n",
        "def MapReduceDistributed(INPUTFORMAT, MAP, REDUCE, PARTITIONER=PARTITIONER, COMBINER=None):\n",
        "  map_partitions = map(lambda record_reader: flatten(map(lambda k1v1: MAP(*k1v1), record_reader)), INPUTFORMAT())\n",
        "  if COMBINER != None:\n",
        "    map_partitions = map(lambda map_partition: flatten(map(lambda k2v2: COMBINER(*k2v2), groupbykey(map_partition))), map_partitions)\n",
        "  reduce_partitions = groupbykey_distributed(map_partitions, PARTITIONER) # shuffle\n",
        "  reduce_outputs = map(lambda reduce_partition: (reduce_partition[0], flatten(map(lambda reduce_input_group: REDUCE(*reduce_input_group), reduce_partition[1]))), reduce_partitions)\n",
        "\n",
        "  print(\"{} key-value pairs were sent over a network.\".format(sum([len(vs) for (k,vs) in flatten([partition for (partition_id, partition) in reduce_partitions])])))\n",
        "  return reduce_outputs"
      ],
      "execution_count": 18,
      "outputs": []
    },
    {
      "cell_type": "markdown",
      "metadata": {
        "id": "kxirlf3XqZxY"
      },
      "source": [
        "## Спецификация MapReduce Distributed\n",
        "\n",
        "\n",
        "```\n",
        "f (k1, v1) -> (k2,v2)*\n",
        "g (k2, v2*) -> (k3,v3)*\n",
        "\n",
        "e1 (k1, v1)\n",
        "e2 (k2, v2)\n",
        "partition1 (k2, v2)*\n",
        "partition2 (k2, v2*)*\n",
        "\n",
        "flatmap (e1->e2*, e1*) -> partition1*\n",
        "groupby (partition1*) -> partition2*\n",
        "\n",
        "mapreduce ((k1,v1)*) -> (k3,v3)*\n",
        "mapreduce .flatmap(f).groupby(k2).flatmap(g)\n",
        "```\n",
        "\n"
      ]
    },
    {
      "cell_type": "markdown",
      "metadata": {
        "id": "CWYw_CpbbY3C"
      },
      "source": [
        "## WordCount"
      ]
    },
    {
      "cell_type": "code",
      "metadata": {
        "id": "uR_zfGFkMZlp",
        "colab": {
          "base_uri": "https://localhost:8080/"
        },
        "outputId": "9efc71f0-b390-4dc0-bbaf-316000cc62b1"
      },
      "source": [
        "from typing import Iterator\n",
        "import numpy as np\n",
        "\n",
        "d1 = \"\"\"\n",
        "it is what it is\n",
        "it is what it is\n",
        "it is what it is\"\"\"\n",
        "d2 = \"\"\"\n",
        "what is it\n",
        "what is it\"\"\"\n",
        "d3 = \"\"\"\n",
        "it is a banana\"\"\"\n",
        "documents = [d1, d2, d3, d1, d2, d3]\n",
        "\n",
        "maps = 3\n",
        "reducers = 2\n",
        "\n",
        "def INPUTFORMAT():\n",
        "  global maps\n",
        "\n",
        "  def RECORDREADER(split):\n",
        "    for (docid, document) in enumerate(split):\n",
        "      for (lineid, line) in enumerate(document.split('\\n')):\n",
        "        yield (\"{}:{}\".format(docid,lineid), line)\n",
        "\n",
        "  split_size =  int(np.ceil(len(documents)/maps))\n",
        "  for i in range(0, len(documents), split_size):\n",
        "    yield RECORDREADER(documents[i:i+split_size])\n",
        "\n",
        "def MAP(docId:str, line:str):\n",
        "  for word in line.split(\" \"):\n",
        "    yield (word, 1)\n",
        "\n",
        "def REDUCE(word:str, counts:Iterator[int]):\n",
        "  sum = 0\n",
        "  for c in counts:\n",
        "    sum += c\n",
        "  yield (word, sum)\n",
        "\n",
        "# try to set COMBINER=REDUCER and look at the number of values sent over the network\n",
        "partitioned_output = MapReduceDistributed(INPUTFORMAT, MAP, REDUCE, COMBINER=None)\n",
        "partitioned_output = [(partition_id, list(partition)) for (partition_id, partition) in partitioned_output]\n",
        "partitioned_output"
      ],
      "execution_count": 19,
      "outputs": [
        {
          "output_type": "stream",
          "name": "stdout",
          "text": [
            "56 key-value pairs were sent over a network.\n"
          ]
        },
        {
          "output_type": "execute_result",
          "data": {
            "text/plain": [
              "[(0, [('', 6), ('banana', 2), ('is', 18), ('what', 10)]),\n",
              " (1, [('a', 2), ('it', 18)])]"
            ]
          },
          "metadata": {},
          "execution_count": 19
        }
      ]
    },
    {
      "cell_type": "markdown",
      "metadata": {
        "id": "gCJGx8IQ87xS"
      },
      "source": [
        "## TeraSort"
      ]
    },
    {
      "cell_type": "code",
      "metadata": {
        "id": "P2v8v1v_8_YR",
        "colab": {
          "base_uri": "https://localhost:8080/"
        },
        "outputId": "5405479d-7b4d-4031-de08-544a285c7b93"
      },
      "source": [
        "import numpy as np\n",
        "\n",
        "input_values = np.random.rand(30)\n",
        "maps = 3\n",
        "reducers = 2\n",
        "min_value = 0.0\n",
        "max_value = 1.0\n",
        "\n",
        "def INPUTFORMAT():\n",
        "  global maps\n",
        "\n",
        "  def RECORDREADER(split):\n",
        "    for value in split:\n",
        "        yield (value, None)\n",
        "\n",
        "  split_size =  int(np.ceil(len(input_values)/maps))\n",
        "  for i in range(0, len(input_values), split_size):\n",
        "    yield RECORDREADER(input_values[i:i+split_size])\n",
        "\n",
        "def MAP(value:int, _):\n",
        "  yield (value, None)\n",
        "\n",
        "def PARTITIONER(key):\n",
        "  global reducers\n",
        "  global max_value\n",
        "  global min_value\n",
        "  bucket_size = (max_value-min_value)/reducers\n",
        "  bucket_id = 0\n",
        "  while((key>(bucket_id+1)*bucket_size) and ((bucket_id+1)*bucket_size<max_value)):\n",
        "    bucket_id += 1\n",
        "  return bucket_id\n",
        "\n",
        "def REDUCE(value:int, _):\n",
        "  yield (None,value)\n",
        "\n",
        "partitioned_output = MapReduceDistributed(INPUTFORMAT, MAP, REDUCE, COMBINER=None, PARTITIONER=PARTITIONER)\n",
        "partitioned_output = [(partition_id, list(partition)) for (partition_id, partition) in partitioned_output]\n",
        "partitioned_output"
      ],
      "execution_count": 20,
      "outputs": [
        {
          "output_type": "stream",
          "name": "stdout",
          "text": [
            "30 key-value pairs were sent over a network.\n"
          ]
        },
        {
          "output_type": "execute_result",
          "data": {
            "text/plain": [
              "[(0,\n",
              "  [(None, 0.023495961668422383),\n",
              "   (None, 0.040826074119588496),\n",
              "   (None, 0.06726722076690739),\n",
              "   (None, 0.09148628408734705),\n",
              "   (None, 0.15007666908617123),\n",
              "   (None, 0.21344611783494638),\n",
              "   (None, 0.22251189264926952),\n",
              "   (None, 0.2365720776819229),\n",
              "   (None, 0.2666436169220978),\n",
              "   (None, 0.2749118761478072),\n",
              "   (None, 0.29022653757119987),\n",
              "   (None, 0.3066867749766584),\n",
              "   (None, 0.33136814460050557),\n",
              "   (None, 0.3341579972927945),\n",
              "   (None, 0.3649125828565537),\n",
              "   (None, 0.37512827899430856),\n",
              "   (None, 0.49362582569946734)]),\n",
              " (1,\n",
              "  [(None, 0.5409087262305615),\n",
              "   (None, 0.541902903477593),\n",
              "   (None, 0.5958149412330571),\n",
              "   (None, 0.6073670750132751),\n",
              "   (None, 0.6651349194158259),\n",
              "   (None, 0.6749089515987643),\n",
              "   (None, 0.6759720399827103),\n",
              "   (None, 0.7500436956983101),\n",
              "   (None, 0.7803751044641465),\n",
              "   (None, 0.8597438249466852),\n",
              "   (None, 0.8795068599307714),\n",
              "   (None, 0.8882841327093267),\n",
              "   (None, 0.9599674510074171)])]"
            ]
          },
          "metadata": {},
          "execution_count": 20
        }
      ]
    },
    {
      "cell_type": "code",
      "metadata": {
        "id": "MQhoJaVZI93G"
      },
      "source": [],
      "execution_count": null,
      "outputs": []
    },
    {
      "cell_type": "markdown",
      "metadata": {
        "id": "Iy65YJTH99iT"
      },
      "source": [
        "# Упражнения\n",
        "Упражнения взяты из Rajaraman A., Ullman J. D. Mining of massive datasets. – Cambridge University Press, 2011.\n",
        "\n",
        "\n",
        "Для выполнения заданий переопределите функции RECORDREADER, MAP, REDUCE. Для модели распределённой системы может потребоваться переопределение функций PARTITION и COMBINER."
      ]
    },
    {
      "cell_type": "markdown",
      "metadata": {
        "id": "cfvAeZm3S8S8"
      },
      "source": [
        "### Максимальное значение ряда\n",
        "\n",
        "Разработайте MapReduce алгоритм, который находит максимальное число входного списка чисел."
      ]
    },
    {
      "cell_type": "code",
      "metadata": {
        "id": "3GRA1JR-Tkbg",
        "colab": {
          "base_uri": "https://localhost:8080/"
        },
        "outputId": "301f8143-ecc9-49cb-8140-d957dd648295"
      },
      "source": [
        "import numpy as np\n",
        "\n",
        "# Генерация 20 случайных чисел в диапазоне [0, 1]\n",
        "data_pool = np.random.rand(20)\n",
        "print(\"Список чисел:\", data_pool)\n",
        "\n",
        "# Источник данных в виде генератора\n",
        "def DATASTREAM():\n",
        "    for num in data_pool:\n",
        "        yield (\"group\", num)  # Все числа относятся к одной группе\n",
        "\n",
        "# Мап: преобразует входные данные в пары (ключ, значение)\n",
        "def MAP(_, num):\n",
        "    yield (\"group\", num)\n",
        "\n",
        "# Редьюс: выбирает максимальное число из списка значений\n",
        "def REDUCE(_, num_list):\n",
        "  yield (\"max_value\", max(num_list))\n",
        "\n",
        "max_value_output = list(MapReduce(DATASTREAM, MAP, REDUCE))\n",
        "\n",
        "print(\"Максимальное значение:\", max_value_output[0][1])\n"
      ],
      "execution_count": 26,
      "outputs": [
        {
          "output_type": "stream",
          "name": "stdout",
          "text": [
            "Список чисел: [0.76191576 0.43287458 0.04810183 0.6170251  0.22577299 0.66919637\n",
            " 0.94307651 0.25333585 0.74805479 0.92835646 0.38082249 0.39322544\n",
            " 0.4013015  0.9100802  0.31199921 0.02491345 0.74776948 0.85620348\n",
            " 0.72363225 0.39201924]\n",
            "Максимальное значение: 0.9430765056945035\n"
          ]
        }
      ]
    },
    {
      "cell_type": "markdown",
      "metadata": {
        "id": "k86bXnqZTk-U"
      },
      "source": [
        "### Арифметическое среднее\n",
        "\n",
        "Разработайте MapReduce алгоритм, который находит арифметическое среднее.\n",
        "\n",
        "$$\\overline{X} = \\frac{1}{n}\\sum_{i=0}^{n} x_i$$\n"
      ]
    },
    {
      "cell_type": "code",
      "metadata": {
        "id": "MPoY5pkfUNZf",
        "colab": {
          "base_uri": "https://localhost:8080/"
        },
        "outputId": "869834a8-a82f-489c-b9ff-c63b16866d0e"
      },
      "source": [
        "# Создаем массив из 30 случайных чисел в диапазоне [0, 1]\n",
        "number_series = np.random.rand(30)\n",
        "print(\"Сгенерированные числа:\", number_series)\n",
        "\n",
        "# Генератор, предоставляющий данные\n",
        "def DATASTREAM():\n",
        "    for num in number_series:\n",
        "        yield (\"batch\", num)  # Все значения сгруппированы под одним ключом\n",
        "\n",
        "# Функция отображения данных\n",
        "def MAP(_, num):\n",
        "    \"\"\"Каждое число привязывается к единому ключу.\"\"\"\n",
        "    yield (\"batch\", num)\n",
        "\n",
        "# Функция сведения данных\n",
        "def REDUCE(_, num_list):\n",
        "    \"\"\"Вычисляет среднее значение из переданных чисел.\"\"\"\n",
        "    yield (\"mean_value\", sum(num_list) / len(num_list))\n",
        "\n",
        "# Запуск обработки\n",
        "result = list(MapReduce(DATASTREAM, MAP, REDUCE))\n",
        "\n",
        "# Вывод среднего значения\n",
        "print(\"Среднее арифметическое:\", result[0][1])\n"
      ],
      "execution_count": 35,
      "outputs": [
        {
          "output_type": "stream",
          "name": "stdout",
          "text": [
            "Сгенерированные числа: [0.9895779  0.9880709  0.40145518 0.07216722 0.69851304 0.77408977\n",
            " 0.7402936  0.41531473 0.90527973 0.21028795 0.21133235 0.21038605\n",
            " 0.11443481 0.1258494  0.79767692 0.87477658 0.55282726 0.86682912\n",
            " 0.8346485  0.19036269 0.51006387 0.20392434 0.57691324 0.20957706\n",
            " 0.39517742 0.54476776 0.45077067 0.27273783 0.77670873 0.5595453 ]\n",
            "Среднее арифметическое: 0.515811997773663\n"
          ]
        }
      ]
    },
    {
      "cell_type": "markdown",
      "metadata": {
        "id": "xanzszhsIlLe"
      },
      "source": [
        "### GroupByKey на основе сортировки\n",
        "\n",
        "Реализуйте groupByKey на основе сортировки, проверьте его работу на примерах"
      ]
    },
    {
      "cell_type": "code",
      "metadata": {
        "id": "hQPn3USsIkEC",
        "colab": {
          "base_uri": "https://localhost:8080/"
        },
        "outputId": "2831f6ed-de48-4f36-976c-afdb5547186a"
      },
      "source": [
        "# Функция группировки пар (ключ, значение) без использования groupby\n",
        "def custom_groupby(iterable):\n",
        "    sorted_data = sorted(iterable, key=lambda x: x[0])  # Сортировка по ключу\n",
        "    grouped = []\n",
        "\n",
        "    if not sorted_data:\n",
        "        return grouped\n",
        "\n",
        "    current_key, current_values = sorted_data[0][0], [] #Первый ключ\n",
        "    for key, value in sorted_data:\n",
        "        if key == current_key:\n",
        "            current_values.append(value)\n",
        "        else:\n",
        "            grouped.append((current_key, current_values))\n",
        "            current_key, current_values = key, [value]\n",
        "\n",
        "    grouped.append((current_key, current_values))\n",
        "    return grouped\n",
        "\n",
        "# Реализация процесса обработки\n",
        "def execute_mapreduce(reader, map_func, reduce_func):\n",
        "    mapped_data = (map_func(*entry) for entry in reader())\n",
        "    flattened_data = [pair for sublist in mapped_data for pair in sublist]\n",
        "    grouped_data = custom_groupby(flattened_data)\n",
        "    reduced_data = [result for key, values in grouped_data for result in reduce_func(key, values)]\n",
        "    return reduced_data\n",
        "\n",
        "#Возмем тестовые данные\n",
        "input_data = [\n",
        "    (\"a\", 1), (\"b\", 2), (\"c\", 3), (\"a\", 4), (\"b\", 5), (\"c\", 6)\n",
        "]\n",
        "\n",
        "# Запуск обработки\n",
        "result = custom_groupby(input_data)\n",
        "print(result)\n"
      ],
      "execution_count": 40,
      "outputs": [
        {
          "output_type": "stream",
          "name": "stdout",
          "text": [
            "[('a', [1, 4]), ('b', [2, 5]), ('c', [3, 6])]\n"
          ]
        }
      ]
    },
    {
      "cell_type": "markdown",
      "metadata": {
        "id": "5SgEjCZyGnu6"
      },
      "source": [
        "### Drop duplicates (set construction, unique elements, distinct)\n",
        "\n",
        "Реализуйте распределённую операцию исключения дубликатов"
      ]
    },
    {
      "cell_type": "code",
      "metadata": {
        "id": "okjbyApjGhMt",
        "colab": {
          "base_uri": "https://localhost:8080/"
        },
        "outputId": "19eb5d0f-9fec-4726-918c-1d5a56cb5530"
      },
      "source": [
        "reducers = 2  # Количество редьюсеров\n",
        "\n",
        "def INPUTFORMAT():\n",
        "    global maps\n",
        "    input_values = [\"car1\", \"car2\", \"car1\", \"car\", \"car2\", \"car3\", \"car5\", \"car10\"]\n",
        "\n",
        "    def RECORDREADER(split):\n",
        "        for value in split:\n",
        "            yield (value, None)  # Формат (значение, None)\n",
        "\n",
        "    split_size = max(1, len(input_values) // maps)\n",
        "    for i in range(0, len(input_values), split_size):\n",
        "        yield RECORDREADER(input_values[i:i+split_size])\n",
        "\n",
        "def MAP(value, _):\n",
        "    yield (value, None)  # Просто передаем ключ, значение не важно\n",
        "\n",
        "def PARTITIONER(key):\n",
        "    global reducers\n",
        "    return hash(key) % reducers  # Определяет, какой редьюсер обработает ключ\n",
        "\n",
        "def REDUCE(value, _):\n",
        "    yield (value, None)  # Возвращаем только одно значение\n",
        "\n",
        "\n",
        "maps = 2  # Количество мапперов\n",
        "unique_values_output = MapReduceDistributed(INPUTFORMAT, MAP, REDUCE, PARTITIONER)\n",
        "\n",
        "# Преобразуем результат в удобный формат\n",
        "unique_values_output = [value for (_, partition) in unique_values_output for (value, _) in partition]\n",
        "print(\"Unique values:\", unique_values_output)  # Ожидаем ['apple', 'banana', 'orange', 'grape']\n"
      ],
      "execution_count": 43,
      "outputs": [
        {
          "output_type": "stream",
          "name": "stdout",
          "text": [
            "8 key-value pairs were sent over a network.\n",
            "Unique values: ['car', 'car10', 'car3', 'car5', 'car1', 'car2']\n"
          ]
        }
      ]
    },
    {
      "cell_type": "markdown",
      "metadata": {
        "id": "e7sRGoTXuJze"
      },
      "source": [
        "#Операторы реляционной алгебры\n",
        "### Selection (Выборка)\n",
        "\n",
        "**The Map Function**: Для  каждого кортежа $t \\in R$ вычисляется истинность предиката $C$. В случае истины создаётся пара ключ-значение $(t, t)$. В паре ключ и значение одинаковы, равны $t$.\n",
        "\n",
        "**The Reduce Function:** Роль функции Reduce выполняет функция идентичности, которая возвращает то же значение, что получила на вход.\n",
        "\n"
      ]
    },
    {
      "cell_type": "code",
      "metadata": {
        "id": "4nKIKe59uIfc",
        "colab": {
          "base_uri": "https://localhost:8080/"
        },
        "outputId": "05e54a1f-0260-459c-e982-4353289bc9d5"
      },
      "source": [
        "def C(t):\n",
        "    \"\"\"Предикат: проверяет, делится ли сумма элементов кортежа на 2 без остатка.\"\"\"\n",
        "    return (t[0] + t[1]) % 2 == 0\n",
        "\n",
        "def RECORDREADER():\n",
        "    \"\"\"Генерирует кортежи из набора данных.\"\"\"\n",
        "    dataset = [(0, 2), (6, 1), (5, 5)]\n",
        "    for t in dataset:\n",
        "        yield (t, None)  # Фиксированный ключ для обработки MapReduce\n",
        "\n",
        "def MAP(t, _):\n",
        "    \"\"\"Применяет предикат к каждому элементу и передает в Reduce, если условие выполняется.\"\"\"\n",
        "    if C(t):\n",
        "        yield (t, t)  # Ключ и значение равны отобранному элементу\n",
        "\n",
        "def REDUCE(_, values):\n",
        "    \"\"\"Функция идентичности — возвращает полученные значения.\"\"\"\n",
        "    yield from values\n",
        "\n",
        "# Запуск MapReduce\n",
        "result = list(MapReduce(RECORDREADER, MAP, REDUCE))\n",
        "\n",
        "# Вывод результата\n",
        "print(\"Выбранные кортежи по условию деления суммы элементов кортежа на 2 без остатка:\", result)\n"
      ],
      "execution_count": 44,
      "outputs": [
        {
          "output_type": "stream",
          "name": "stdout",
          "text": [
            "Выбранные кортежи по условию деления суммы элементов кортежа на 2 без остатка: [(0, 2), (5, 5)]\n"
          ]
        }
      ]
    },
    {
      "cell_type": "markdown",
      "metadata": {
        "id": "w27Ca-_Ku85V"
      },
      "source": [
        "### Projection (Проекция)\n",
        "\n",
        "Проекция на множество атрибутов $S$.\n",
        "\n",
        "**The Map Function:** Для каждого кортежа $t \\in R$ создайте кортеж $t′$, исключая  из $t$ те значения, атрибуты которых не принадлежат  $S$. Верните пару $(t′, t′)$.\n",
        "\n",
        "**The Reduce Function:** Для каждого ключа $t′$, созданного любой Map задачей, вы получаете одну или несколько пар $(t′, t′)$. Reduce функция преобразует $(t′, [t′, t′, . . . , t′])$ в $(t′, t′)$, так, что для ключа $t′$ возвращается одна пара  $(t′, t′)$."
      ]
    },
    {
      "cell_type": "code",
      "metadata": {
        "id": "BEvuY4GqvhS6",
        "colab": {
          "base_uri": "https://localhost:8080/"
        },
        "outputId": "dce68e2e-04b5-4e9c-a8fd-0b39600522c7"
      },
      "source": [
        "S = {1, 5, 10}  # Оставляем только эти атрибуты\n",
        "\n",
        "def MAP(t, _):\n",
        "    \"\"\"Оставляем только нужные атрибуты.\"\"\"\n",
        "    result = {k: v for k, v in t.items() if k in S}\n",
        "    key = tuple(sorted(result.items()))  # Делаем ключ предсказуемым\n",
        "    yield (key, key)  # Пара (t', t')\n",
        "\n",
        "def REDUCE(_, values):\n",
        "    \"\"\"Удаляем дубликаты.\"\"\"\n",
        "    yield values[0]  # Оставляем один экземпляр\n",
        "\n",
        "def RECORDREADER():\n",
        "    \"\"\"Генератор данных.\"\"\"\n",
        "    yield ({1: \"apple\", 2: \"banana\", 5: \"grape\"}, None)\n",
        "    yield ({1: \"orange\", 3: \"pear\", 10: \"kiwi\"}, None)\n",
        "    yield ({5: \"melon\", 7: \"cherry\", 10: \"mango\"}, None)\n",
        "\n",
        "# Выполнение MapReduce\n",
        "result = list(MapReduce(RECORDREADER, MAP, REDUCE))\n",
        "\n",
        "# Вывод результата\n",
        "print(\"Проекция по атрибутам:\", result)"
      ],
      "execution_count": 45,
      "outputs": [
        {
          "output_type": "stream",
          "name": "stdout",
          "text": [
            "Проекция по атрибутам: [((1, 'apple'), (5, 'grape')), ((1, 'orange'), (10, 'kiwi')), ((5, 'melon'), (10, 'mango'))]\n"
          ]
        }
      ]
    },
    {
      "cell_type": "markdown",
      "metadata": {
        "id": "7gau6lKXvn2R"
      },
      "source": [
        "### Union (Объединение)\n",
        "\n",
        "**The Map Function:** Превратите каждый входной кортеж $t$ в пару ключ-значение $(t, t)$.\n",
        "\n",
        "**The Reduce Function:** С каждым ключом $t$ будет ассоциировано одно или два значений. В обоих случаях создайте $(t, t)$ в качестве выходного значения."
      ]
    },
    {
      "cell_type": "code",
      "metadata": {
        "id": "Sns7a5agv3nw",
        "colab": {
          "base_uri": "https://localhost:8080/"
        },
        "outputId": "7e2da33b-b02e-4786-a424-7d0a05efcb31"
      },
      "source": [
        "# Генератор данных\n",
        "def RECORDREADER():\n",
        "    \"\"\"Формируем объединение двух множеств.\"\"\"\n",
        "    group_a = [(10, None), (20, None), (30, None)]\n",
        "    group_b = [(20, None), (40, None), (50, None)]\n",
        "    return group_a + group_b  # Объединение двух наборов данных\n",
        "\n",
        "# Функция отображения (маппинга)\n",
        "def MAP(t, _):\n",
        "    \"\"\"Каждое значение преобразуется в пару (t, t).\"\"\"\n",
        "    yield (t, t)\n",
        "\n",
        "# Функция редукции данных\n",
        "def REDUCE(t, values):\n",
        "    \"\"\"Удаляет повторяющиеся элементы, оставляя единственный экземпляр.\"\"\"\n",
        "    yield (t, t)\n",
        "\n",
        "result = list(MapReduce(RECORDREADER, MAP, REDUCE))\n",
        "\n",
        "\n",
        "# Запуск обработки\n",
        "result = execute_mapreduce(RECORDREADER, MAP, REDUCE)\n",
        "\n",
        "# Вывод результата\n",
        "print(\"Объединенное множество:\", result)"
      ],
      "execution_count": 47,
      "outputs": [
        {
          "output_type": "stream",
          "name": "stdout",
          "text": [
            "Объединенное множество: [(10, 10), (20, 20), (30, 30), (40, 40), (50, 50)]\n"
          ]
        }
      ]
    },
    {
      "cell_type": "markdown",
      "metadata": {
        "id": "dQ8TuEbjv4J8"
      },
      "source": [
        "### Intersection (Пересечение)\n",
        "\n",
        "**The Map Function:** Превратите каждый кортеж $t$ в пары ключ-значение $(t, t)$.\n",
        "\n",
        "**The Reduce Function:** Если для ключа $t$ есть список из двух элементов $[t, t]$ $-$ создайте пару $(t, t)$. Иначе, ничего не создавайте."
      ]
    },
    {
      "cell_type": "code",
      "metadata": {
        "id": "XKlBZh4IwERR",
        "colab": {
          "base_uri": "https://localhost:8080/"
        },
        "outputId": "53bb3850-c5f7-4dff-eb44-1a5f3e31df17"
      },
      "source": [
        "# Генератор данных\n",
        "def RECORDREADER():\n",
        "    \"\"\"Формируем пересечение двух множеств.\"\"\"\n",
        "    group_a = [(10, None), (20, None), (30, None), (40, None)]\n",
        "    group_b = [(20, None), (30, None), (50, None), (60, None)]\n",
        "    return group_a + group_b  # Объединение данных перед MapReduce\n",
        "\n",
        "# Функция отображения (маппинга)\n",
        "def MAP(t, _):\n",
        "    \"\"\"Каждое значение преобразуется в пару (t, t).\"\"\"\n",
        "    yield (t, t)\n",
        "\n",
        "# Функция редукции данных\n",
        "def REDUCE(t, values):\n",
        "    \"\"\"Если элемент встречается дважды, он принадлежит пересечению.\"\"\"\n",
        "    if len(values) == 2:\n",
        "        yield (t, t)\n",
        "\n",
        "# Запуск обработки\n",
        "result = list(MapReduce(RECORDREADER, MAP, REDUCE))\n",
        "# Вывод результата\n",
        "print(\"Пересечение множеств:\", result)\n"
      ],
      "execution_count": 48,
      "outputs": [
        {
          "output_type": "stream",
          "name": "stdout",
          "text": [
            "Пересечение множеств: [(20, 20), (30, 30)]\n"
          ]
        }
      ]
    },
    {
      "cell_type": "markdown",
      "metadata": {
        "id": "AVOpqoY3wE5k"
      },
      "source": [
        "### Difference (Разница)\n",
        "\n",
        "**The Map Function:** Для кортежа $t \\in R$, создайте пару $(t, R)$, и для кортежа $t \\in S$, создайте пару $(t, S)$. Задумка заключается в том, чтобы значение пары было именем отношения $R$ or $S$, которому принадлежит кортеж (а лучше, единичный бит, по которому можно два отношения различить $R$ or $S$), а не весь набор атрибутов отношения.\n",
        "\n",
        "**The Reduce Function:** Для каждого ключа $t$, если соответствующее значение является списком $[R]$, создайте пару $(t, t)$. В иных случаях не предпринимайте действий."
      ]
    },
    {
      "cell_type": "code",
      "metadata": {
        "id": "QE_AC09lwZIZ",
        "colab": {
          "base_uri": "https://localhost:8080/"
        },
        "outputId": "74049bce-20d2-4575-b4e3-5ff76700fb95"
      },
      "source": [
        "# Генератор данных\n",
        "def RECORDREADER():\n",
        "    \"\"\"Формируем два множества: A и B.\"\"\"\n",
        "    A = [(10, \"A\"), (20, \"A\"), (30, \"A\"), (40, \"A\")]  # Множество A\n",
        "    B = [(20, \"B\"), (30, \"B\"), (50, \"B\"), (60, \"B\")]  # Множество B\n",
        "    return A + B  # Объединяем их в один поток данных\n",
        "\n",
        "# Функция отображения (маппинга)\n",
        "def MAP(t, source):\n",
        "    \"\"\"Каждое значение помечается его источником (A или B).\"\"\"\n",
        "    yield (t, source)\n",
        "\n",
        "# Функция редукции данных\n",
        "def REDUCE(t, values):\n",
        "    \"\"\"Если элемент присутствует только в A, он включается в результат.\"\"\"\n",
        "    if values == [\"A\"]:  # Элемент отсутствует в B\n",
        "        yield (t, t)\n",
        "\n",
        "# Запуск обработки\n",
        "result = list(MapReduce(RECORDREADER, MAP, REDUCE))\n",
        "\n",
        "# Вывод результата\n",
        "print(\"Разность A - B:\", result)\n"
      ],
      "execution_count": 49,
      "outputs": [
        {
          "output_type": "stream",
          "name": "stdout",
          "text": [
            "Разность A - B: [(10, 10), (40, 40)]\n"
          ]
        }
      ]
    },
    {
      "cell_type": "markdown",
      "metadata": {
        "id": "j8I58V2VwhSm"
      },
      "source": [
        "### Natural Join\n",
        "\n",
        "**The Map Function:** Для каждого кортежа $(a, b)$ отношения $R$, создайте пару $(b,(R, a))$. Для каждого кортежа $(b, c)$ отношения $S$, создайте пару $(b,(S, c))$.\n",
        "\n",
        "**The Reduce Function:** Каждый ключ $b$ будет асоциирован со списком пар, которые принимают форму либо $(R, a)$, либо $(S, c)$. Создайте все пары, одни, состоящие из  первого компонента $R$, а другие, из первого компонента $S$, то есть $(R, a)$ и $(S, c)$. На выходе вы получаете последовательность пар ключ-значение из списков ключей и значений. Ключ не нужен. Каждое значение, это тройка $(a, b, c)$ такая, что $(R, a)$ и $(S, c)$ это принадлежат входному списку значений."
      ]
    },
    {
      "cell_type": "code",
      "metadata": {
        "id": "yHiuuTctw86I",
        "colab": {
          "base_uri": "https://localhost:8080/"
        },
        "outputId": "6dd38d50-09d2-4abc-fd91-e8a6351d2f36"
      },
      "source": [
        "import numpy as np\n",
        "\n",
        "# Генератор данных\n",
        "def RECORDREADER():\n",
        "    \"\"\"Формируем данные для соединения: X(p, q) и Y(q, r).\"\"\"\n",
        "    X = [(\"Alpha\", 10), (\"Beta\", 20), (\"Gamma\", 30)]  # (p, q)\n",
        "    Y = [(10, \"Orange\"), (20, \"Grape\"), (30, \"Peach\")]  # (q, r)\n",
        "    return [(x, \"X\") for x in X] + [(y, \"Y\") for y in Y]\n",
        "\n",
        "# Функция отображения (маппинга)\n",
        "def MAP(record, source):\n",
        "    \"\"\"Формирует пары (q, (источник, значение)) для соединения.\"\"\"\n",
        "    if source == \"X\":\n",
        "        p, q = record\n",
        "        yield (q, (\"X\", p))\n",
        "    elif source == \"Y\":\n",
        "        q, r = record\n",
        "        yield (q, (\"Y\", r))\n",
        "\n",
        "def REDUCE(q, values):\n",
        "    \"\"\"Создает пары (p, q, r) при совпадении.\"\"\"\n",
        "    x_values = [p for src, p in values if src == \"X\"]\n",
        "    y_values = [r for src, r in values if src == \"Y\"]\n",
        "\n",
        "    for p in x_values:\n",
        "        for r in y_values:\n",
        "            yield (p, q, r)  # q оставляем для наглядности\n",
        "\n",
        "\n",
        "# Запуск обработки\n",
        "result = list(MapReduce(RECORDREADER, MAP, REDUCE))\n",
        "\n",
        "# Вывод результата\n",
        "print(\"Natural Join:\", result)\n"
      ],
      "execution_count": 50,
      "outputs": [
        {
          "output_type": "stream",
          "name": "stdout",
          "text": [
            "Natural Join: [('Alpha', 10, 'Orange'), ('Beta', 20, 'Grape'), ('Gamma', 30, 'Peach')]\n"
          ]
        }
      ]
    },
    {
      "cell_type": "markdown",
      "metadata": {
        "id": "kYdlr0YUxE27"
      },
      "source": [
        "### Grouping and Aggregation (Группировка и аггрегация)\n",
        "\n",
        "**The Map Function:** Для каждого кортежа $(a, b, c$) создайте пару $(a, b)$.\n",
        "\n",
        "**The Reduce Function:** Ключ представляет ту или иную группу. Примение аггрегирующую операцию $\\theta$ к списку значений $[b1, b2, . . . , bn]$ ассоциированных с ключом $a$. Возвращайте в выходной поток $(a, x)$, где $x$ результат применения  $\\theta$ к списку. Например, если $\\theta$ это $SUM$, тогда $x = b1 + b2 + · · · + bn$, а если $\\theta$ is $MAX$, тогда $x$ это максимальное из значений $b1, b2, . . . , bn$."
      ]
    },
    {
      "cell_type": "code",
      "metadata": {
        "id": "MLPckfEGxico",
        "colab": {
          "base_uri": "https://localhost:8080/"
        },
        "outputId": "6ca6f4bc-c8f1-46b4-8094-d6441a27ed33"
      },
      "source": [
        "from collections import defaultdict\n",
        "from typing import Callable, List, Tuple\n",
        "\n",
        "def MAP(key, value, category):\n",
        "    \"\"\"Маппинг данных: создаем пару (ключ, значение для агрегации).\"\"\"\n",
        "    yield (key, value)\n",
        "\n",
        "def REDUCE(key, values_group, aggregate_func: Callable[[List[int]], int]):\n",
        "    \"\"\"Агрегация значений с помощью заданной функции.\"\"\"\n",
        "    yield (key, aggregate_func(values_group))\n",
        "\n",
        "def RECORDREADER():\n",
        "    \"\"\"Пример исходных данных для обработки.\"\"\"\n",
        "    return [(1, 10, \"cat1\"), (2, 20, \"cat2\"), (1, 15, \"cat3\"), (2, 25, \"cat4\"), (3, 30, \"cat5\")]\n",
        "\n",
        "def group_by_key(mapped_items: List[Tuple[int, int]]) -> dict:\n",
        "    \"\"\"Группируем все значения по ключу.\"\"\"\n",
        "    grouped = defaultdict(list)\n",
        "    for key, value in mapped_items:\n",
        "        grouped[key].append(value)\n",
        "    return grouped\n",
        "\n",
        "def MapReduce(record_reader, mapper, reducer, aggregation_func):\n",
        "    \"\"\"Главная функция MapReduce.\"\"\"\n",
        "    raw_data = record_reader()\n",
        "\n",
        "    # Этап маппинга\n",
        "    mapped_items = []\n",
        "    for record in raw_data:\n",
        "        mapped_items.extend(mapper(*record))  # Распаковываем и применяем маппинг\n",
        "\n",
        "    # Этап шифрования\n",
        "    grouped_data = group_by_key(mapped_items)\n",
        "\n",
        "    # Этап редуцирования\n",
        "    reduced_results = []\n",
        "    for key, values in grouped_data.items():\n",
        "        reduced_results.extend(reducer(key, values, aggregation_func))\n",
        "\n",
        "    return reduced_results\n",
        "\n",
        "\n",
        "# Применение для суммы\n",
        "print(\"Aggregation with SUM:\", MapReduce(RECORDREADER, MAP, REDUCE, sum))\n",
        "\n",
        "# Применение для максимума\n",
        "print(\"Aggregation with MAX:\", MapReduce(RECORDREADER, MAP, REDUCE, max))\n"
      ],
      "execution_count": 56,
      "outputs": [
        {
          "output_type": "stream",
          "name": "stdout",
          "text": [
            "Aggregation with SUM: [(1, 25), (2, 45), (3, 30)]\n",
            "Aggregation with MAX: [(1, 15), (2, 25), (3, 30)]\n"
          ]
        }
      ]
    },
    {
      "cell_type": "markdown",
      "metadata": {
        "id": "03IffTEOJgOb"
      },
      "source": [
        "#"
      ]
    },
    {
      "cell_type": "markdown",
      "metadata": {
        "id": "IIrRgvG4RIS4"
      },
      "source": [
        "### Matrix-Vector multiplication\n",
        "\n",
        "Случай, когда вектор не помещается в памяти Map задачи\n"
      ]
    },
    {
      "cell_type": "code",
      "metadata": {
        "id": "KQhDbiL3zS9r",
        "colab": {
          "base_uri": "https://localhost:8080/"
        },
        "outputId": "c6ccfdac-2042-41fb-b1f5-51cc975c0a64"
      },
      "source": [
        "from typing import List, Tuple, Dict, NamedTuple\n",
        "from collections import defaultdict\n",
        "\n",
        "NUM_PARTITIONS = 2  # Число разделов для редуцирования\n",
        "VECTOR_CHUNK_SIZE = 2  # Размер каждого чанка вектора\n",
        "\n",
        "# Функция отображения для матричных данных\n",
        "def map_matrix_entry(entry: NamedTuple) -> Tuple[int, Tuple[str, NamedTuple]]:\n",
        "    return entry.col % NUM_PARTITIONS, ('M', entry)\n",
        "\n",
        "# Функция отображения для векторных данных, разбитых на чанки\n",
        "def map_vector_chunk(vector_segment: List[NamedTuple]) -> List[Tuple[int, Tuple[str, NamedTuple]]]:\n",
        "    return [(el.index % NUM_PARTITIONS, ('V', el)) for el in vector_segment]\n",
        "\n",
        "# Функция редукции для вычисления частичных произведений\n",
        "def reduce_partial_product(partition_id: int, items: List[Tuple[str, NamedTuple]]) -> List[Tuple[int, float]]:\n",
        "    matrix_rows, vector_elements = [], []\n",
        "    for identifier, record in items:\n",
        "        (matrix_rows if identifier == 'M' else vector_elements).append(record)\n",
        "\n",
        "    return [(row.row, row.value * element.value) for row in matrix_rows for element in vector_elements if row.col == element.index]\n",
        "\n",
        "# Функция для группировки данных по разделам\n",
        "def group_by_partition(mapped_items: List[Tuple[int, Tuple[str, NamedTuple]]]) -> Dict[int, List[Tuple[str, NamedTuple]]]:\n",
        "    grouped = defaultdict(list)\n",
        "    for partition_id, pair in mapped_items:\n",
        "        grouped[partition_id].append(pair)\n",
        "    return grouped\n",
        "\n",
        "# Функция для агрегации результатов (суммирование частичных произведений)\n",
        "def aggregate_results(partial_results: List[Tuple[int, float]]) -> Dict[int, float]:\n",
        "    aggregated = defaultdict(float)\n",
        "    for row, product in partial_results:\n",
        "        aggregated[row] += product\n",
        "    return aggregated\n",
        "\n",
        "# Функция для преобразования матрицы в формат (M, запись)\n",
        "def read_matrix_data(matrix: List[NamedTuple]) -> List[Tuple[str, NamedTuple]]:\n",
        "    return [('M', row) for row in matrix]\n",
        "\n",
        "# Функция для разбивания вектора на чанки\n",
        "def split_vector_into_chunks(vector: List[NamedTuple]) -> List[List[NamedTuple]]:\n",
        "    return [vector[i:i + VECTOR_CHUNK_SIZE] for i in range(0, len(vector), VECTOR_CHUNK_SIZE)]\n",
        "\n",
        "# Главная функция MapReduce для матрично-векторного умножения\n",
        "def map_reduce(matrix, vector):\n",
        "    matrix_mapped = [map_matrix_entry(row) for _, row in read_matrix_data(matrix)]\n",
        "    vector_mapped = [pair for chunk in split_vector_into_chunks(vector) for pair in map_vector_chunk(chunk)]\n",
        "    grouped_data = group_by_partition(matrix_mapped + vector_mapped)\n",
        "    partial_products = [result for partition_id, values in grouped_data.items() for result in reduce_partial_product(partition_id, values)]\n",
        "    return aggregate_results(partial_products)\n",
        "\n",
        "from collections import namedtuple\n",
        "MatrixRow = namedtuple('MatrixRow', ['row', 'col', 'value'])\n",
        "VectorElement = namedtuple('VectorElement', ['index', 'value'])\n",
        "\n",
        "matrix = [MatrixRow(0, 0, 1.0), MatrixRow(0, 1, 2.0), MatrixRow(1, 0, 3.0), MatrixRow(1, 1, 4.0)]\n",
        "vector = [VectorElement(0, 0.5), VectorElement(1, 0.7)]\n",
        "\n",
        "result = map_reduce(matrix, vector)\n",
        "print(\"Matrix-Vector Multiplication Result:\", result)\n"
      ],
      "execution_count": 57,
      "outputs": [
        {
          "output_type": "stream",
          "name": "stdout",
          "text": [
            "Matrix-Vector Multiplication Result: defaultdict(<class 'float'>, {0: 1.9, 1: 4.3})\n"
          ]
        }
      ]
    },
    {
      "cell_type": "markdown",
      "metadata": {
        "id": "GIo2t7nNxvA9"
      },
      "source": [
        "## Matrix multiplication (Перемножение матриц)\n",
        "\n",
        "Если у нас есть матрица $M$ с элементами $m_{ij}$ в строке $i$ и столбце $j$, и матрица $N$ с элементами $n_{jk}$ в строке $j$ и столбце $k$, тогда их произведение $P = MN$ есть матрица $P$ с элементами $p_{ik}$ в строке $i$ и столбце $k$, где\n",
        "\n",
        "$$p_{ik} =\\sum_{j} m_{ij}n_{jk}$$\n",
        "\n",
        "Необходимым требованием является одинаковое количество столбцов в $M$ и строк в $N$, чтобы операция суммирования по  $j$ была осмысленной. Мы можем размышлять о матрице, как об отношении с тремя атрибутами: номер строки, номер столбца, само значение. Таким образом матрица $M$ предстваляется как отношение $ M(I, J, V )$, с кортежами $(i, j, m_{ij})$, и, аналогично, матрица $N$ представляется как отношение $N(J, K, W)$, с кортежами $(j, k, n_{jk})$. Так как большие матрицы как правило разреженные (большинство значений равно 0), и так как мы можем нулевыми значениями пренебречь (не хранить), такое реляционное представление достаточно эффективно для больших матриц. Однако, возможно, что координаты $i$, $j$, и $k$ неявно закодированы в смещение позиции элемента относительно начала файла, вместо явного хранения. Тогда, функция Map (или Reader) должна быть разработана таким образом, чтобы реконструировать компоненты $I$, $J$, и $K$ кортежей из смещения.\n",
        "\n",
        "Произведение $MN$ это фактически join, за которым следуют группировка по ключу и аггрегация. Таким образом join отношений $M(I, J, V )$ и $N(J, K, W)$, имеющих общим только атрибут $J$, создаст кортежи $(i, j, k, v, w)$ из каждого кортежа $(i, j, v) \\in M$ и кортежа $(j, k, w) \\in N$. Такой 5 компонентный кортеж представляет пару элементов матрицы $(m_{ij} , n_{jk})$. Что нам хотелось бы получить на самом деле, это произведение этих элементов, то есть, 4 компонентный кортеж$(i, j, k, v \\times w)$, так как он представляет произведение $m_{ij}n_{jk}$. Мы представляем отношение как результат одной MapReduce операции, в которой мы можем произвести группировку и аггрегацию, с $I$ и $K$  атрибутами, по которым идёт группировка, и суммой  $V \\times W$.\n",
        "\n",
        "\n",
        "\n"
      ]
    },
    {
      "cell_type": "code",
      "metadata": {
        "id": "1MBkGaLAYVCt"
      },
      "source": [
        "# MapReduce model\n",
        "def flatten(nested_iterable):\n",
        "  for iterable in nested_iterable:\n",
        "    for element in iterable:\n",
        "      yield element\n",
        "\n",
        "def groupbykey(iterable):\n",
        "  t = {}\n",
        "  for (k2, v2) in iterable:\n",
        "    t[k2] = t.get(k2, []) + [v2]\n",
        "  return t.items()\n",
        "\n",
        "def MapReduce(RECORDREADER, MAP, REDUCE):\n",
        "  return flatten(map(lambda x: REDUCE(*x), groupbykey(flatten(map(lambda x: MAP(*x), RECORDREADER())))))"
      ],
      "execution_count": 63,
      "outputs": []
    },
    {
      "cell_type": "markdown",
      "metadata": {
        "id": "sMspsOT0ZB35"
      },
      "source": [
        "Реализуйте перемножение матриц с использованием модельного кода MapReduce для одной машины в случае, когда одна матрица хранится в памяти, а другая генерируется RECORDREADER-ом."
      ]
    },
    {
      "cell_type": "code",
      "metadata": {
        "id": "psP1XekbsEjS"
      },
      "source": [
        "import numpy as np\n",
        "I = 2\n",
        "J = 3\n",
        "K = 4*10\n",
        "small_mat = np.random.rand(I,J) # it is legal to access this from RECORDREADER, MAP, REDUCE\n",
        "big_mat = np.random.rand(J,K)\n",
        "\n",
        "def RECORDREADER():\n",
        "  for j in range(big_mat.shape[0]):\n",
        "    for k in range(big_mat.shape[1]):\n",
        "      yield ((j,k), big_mat[j,k])\n",
        "\n",
        "def MAP(k1, v1):\n",
        "  (j, k) = k1\n",
        "  w = v1\n",
        "\n",
        "  for i in range(small_mat.shape[0]):  # Пробегаем все строки маленькой матрицы\n",
        "        v = small_mat[i, j]  # m_{ij}\n",
        "        yield ((i, k), v * w)  # (i,k) - ключ, произведение - значение\n",
        "\n",
        "  # solution code that yield(k2,v2) pairs\n",
        "\n",
        "def REDUCE(key, values):\n",
        "  (i, k) = key\n",
        "  yield ((i, k), sum(values))\n",
        "  # solution code that yield(k3,v3) pairs"
      ],
      "execution_count": 64,
      "outputs": []
    },
    {
      "cell_type": "markdown",
      "metadata": {
        "id": "rnt306LHhHrm"
      },
      "source": [
        "Проверьте своё решение"
      ]
    },
    {
      "cell_type": "code",
      "metadata": {
        "id": "Ewy_ZNYqW5a2",
        "colab": {
          "base_uri": "https://localhost:8080/"
        },
        "outputId": "4d43a483-f84a-4caf-ab99-903a060a25ed"
      },
      "source": [
        "# CHECK THE SOLUTION\n",
        "reference_solution = np.matmul(small_mat, big_mat)\n",
        "solution = MapReduce(RECORDREADER, MAP, REDUCE)\n",
        "\n",
        "def asmatrix(reduce_output):\n",
        "  reduce_output = list(reduce_output)\n",
        "  I = max(i for ((i,k), vw) in reduce_output)+1\n",
        "  K = max(k for ((i,k), vw) in reduce_output)+1\n",
        "  mat = np.empty(shape=(I,K))\n",
        "  for ((i,k), vw) in reduce_output:\n",
        "    mat[i,k] = vw\n",
        "  return mat\n",
        "\n",
        "np.allclose(reference_solution, asmatrix(solution)) # should return true"
      ],
      "execution_count": 65,
      "outputs": [
        {
          "output_type": "execute_result",
          "data": {
            "text/plain": [
              "True"
            ]
          },
          "metadata": {},
          "execution_count": 65
        }
      ]
    },
    {
      "cell_type": "code",
      "metadata": {
        "id": "TK7v4CEcfxqf",
        "colab": {
          "base_uri": "https://localhost:8080/"
        },
        "outputId": "2cd21d10-f8a7-4354-bcfe-409e39319730"
      },
      "source": [
        "reduce_output = list(MapReduce(RECORDREADER, MAP, REDUCE))\n",
        "max(i for ((i,k), vw) in reduce_output)"
      ],
      "execution_count": 66,
      "outputs": [
        {
          "output_type": "execute_result",
          "data": {
            "text/plain": [
              "1"
            ]
          },
          "metadata": {},
          "execution_count": 66
        }
      ]
    },
    {
      "cell_type": "markdown",
      "metadata": {
        "id": "i4yyg3kOZqJJ"
      },
      "source": [
        "Реализуйте перемножение матриц  с использованием модельного кода MapReduce для одной машины в случае, когда обе матрицы генерируются в RECORDREADER. Например, сначала одна, а потом другая."
      ]
    },
    {
      "cell_type": "code",
      "metadata": {
        "id": "3B7rIAJCaHZq",
        "colab": {
          "base_uri": "https://localhost:8080/"
        },
        "outputId": "602c790c-1ef2-4987-f2f9-60c825be017a"
      },
      "source": [
        "import numpy as np  # Импортируем библиотеку для работы с матрицами\n",
        "\n",
        "# Размерности матриц\n",
        "ROWS = 2\n",
        "COLS = 3\n",
        "WIDTH = 40\n",
        "\n",
        "# Генерация случайных матриц\n",
        "np.random.seed(42)  # Устанавливаем seed для воспроизводимости\n",
        "matrix_a = np.random.rand(ROWS, COLS)  # Матрица A размером (ROWS x COLS)\n",
        "matrix_b = np.random.rand(COLS, WIDTH)  # Матрица B размером (COLS x WIDTH)\n",
        "\n",
        "# Эталонное решение с использованием стандартного умножения матриц\n",
        "expected_solution = np.matmul(matrix_a, matrix_b)\n",
        "\n",
        "# Функция, которая генерирует данные для обеих матриц\n",
        "def data_reader():\n",
        "    # Чтение первой матрицы (A)\n",
        "    for row in range(matrix_a.shape[0]):\n",
        "        for col in range(matrix_a.shape[1]):\n",
        "            yield ((0, row, col), matrix_a[row, col])  # Формат (0, row, col, A[row, col])\n",
        "\n",
        "    # Чтение второй матрицы (B)\n",
        "    for col in range(matrix_b.shape[0]):\n",
        "        for width in range(matrix_b.shape[1]):\n",
        "            yield ((1, col, width), matrix_b[col, width])  # Формат (1, col, width, B[col, width])\n",
        "\n",
        "# Функция MAP для объединения данных матриц по индексу\n",
        "def map_join_data(key, value):\n",
        "    matrix_type, row_or_col, col_or_width = key  # Разбираем номер матрицы и индексы\n",
        "    val = value\n",
        "\n",
        "    if matrix_type == 0:  # Если это элемент первой матрицы A\n",
        "        yield (col_or_width, (0, row_or_col, val))  # Группируем по col\n",
        "    else:  # Если это элемент второй матрицы B\n",
        "        yield (row_or_col, (1, col_or_width, val))  # Группируем по col\n",
        "\n",
        "# Функция REDUCE для объединения матриц по индексу\n",
        "def reduce_join_data(key, values):\n",
        "    matrix_a_values = [v for v in values if v[0] == 0]  # Элементы первой матрицы A\n",
        "    matrix_b_values = [v for v in values if v[0] == 1]  # Элементы второй матрицы B\n",
        "\n",
        "    for a in matrix_a_values:\n",
        "        for b in matrix_b_values:\n",
        "            yield ((a[1], b[1]), a[2] * b[2])  # Умножение значений A[row, col] * B[col, width]\n",
        "\n",
        "# Функция MAP для финальной агрегации (суммирование произведений)\n",
        "def map_multiply(key, value):\n",
        "    yield (key, value)  # Ключ (row, width) оставляем без изменений\n",
        "\n",
        "# Функция REDUCE для суммирования произведений\n",
        "def reduce_multiply(key, values):\n",
        "    yield (key, sum(values))  # Суммируем все элементы для ключа (row, width)\n",
        "\n",
        "# Генерация объединённых данных через MapReduce\n",
        "mapped_data = MapReduce(data_reader, map_join_data, reduce_join_data)\n",
        "\n",
        "# Финальное выполнение MapReduce для получения результата\n",
        "final_solution = MapReduce(lambda: mapped_data, map_multiply, reduce_multiply)\n",
        "\n",
        "# Проверка на совпадение с эталонным решением\n",
        "print(np.allclose(expected_solution, asmatrix(final_solution)))  # Должно вывести True\n"
      ],
      "execution_count": 67,
      "outputs": [
        {
          "output_type": "stream",
          "name": "stdout",
          "text": [
            "True\n"
          ]
        }
      ]
    },
    {
      "cell_type": "markdown",
      "metadata": {
        "id": "mXyzQi1DaIwo"
      },
      "source": [
        "Реализуйте перемножение матриц с использованием модельного кода MapReduce Distributed, когда каждая матрица генерируется в своём RECORDREADER."
      ]
    },
    {
      "cell_type": "code",
      "metadata": {
        "id": "TDM_s78Rb5eR",
        "colab": {
          "base_uri": "https://localhost:8080/"
        },
        "outputId": "99293a49-6d06-4c94-85d9-dc16787c9fcf"
      },
      "source": [
        "import numpy as np\n",
        "\n",
        "MAPPER_COUNT = 2  # Число мапперов\n",
        "REDUCER_COUNT = 2  # Число редукторов\n",
        "ROWS_MATRIX_A = 2\n",
        "COLS_MATRIX_A = 3\n",
        "COLS_MATRIX_B = 40  # K = 4 * 10\n",
        "\n",
        "# Генерация данных\n",
        "matrix_a = np.random.rand(ROWS_MATRIX_A, COLS_MATRIX_A)\n",
        "matrix_b = np.random.rand(COLS_MATRIX_A, COLS_MATRIX_B)\n",
        "\n",
        "def chunk_data():\n",
        "    \"\"\"Разбиение матриц на части для обработки мапперами.\"\"\"\n",
        "    chunk_size = int(np.ceil(ROWS_MATRIX_A / MAPPER_COUNT))\n",
        "    for start in range(0, ROWS_MATRIX_A, chunk_size):\n",
        "        yield process_data_chunk(range(start, min(start + chunk_size, ROWS_MATRIX_A)))\n",
        "\n",
        "def process_data_chunk(rows):\n",
        "    \"\"\"Генерирует пары (индексы, значение) из двух матриц для каждого чанка.\"\"\"\n",
        "    for i in rows:\n",
        "        for j in range(COLS_MATRIX_A):\n",
        "            for k in range(COLS_MATRIX_B):\n",
        "                yield ((i, j), matrix_a[i, j]), ((j, k), matrix_b[j, k])\n",
        "\n",
        "def map_step(pair_a, pair_b):\n",
        "    \"\"\"Выполняет умножение элементов и группирует по (i, k).\"\"\"\n",
        "    (i, j), value_a = pair_a\n",
        "    (j, k), value_b = pair_b\n",
        "    yield (i, k), value_a * value_b\n",
        "\n",
        "def reduce_step(index, values):\n",
        "    \"\"\"Суммирует элементы с одинаковыми индексами (i, k).\"\"\"\n",
        "    yield index, sum(values)\n",
        "\n",
        "# Запуск MapReduce\n",
        "intermediate_results = MapReduceDistributed(chunk_data, map_step, reduce_step)\n",
        "\n",
        "# Объединение результатов\n",
        "final_output = {}\n",
        "for partition_id, partition in intermediate_results:\n",
        "    for index, value in partition:\n",
        "        final_output[index] = final_output.get(index, 0) + value\n",
        "\n",
        "print(\"Matrix Multiplication Result:\\n\", final_output)\n"
      ],
      "execution_count": 68,
      "outputs": [
        {
          "output_type": "stream",
          "name": "stdout",
          "text": [
            "240 key-value pairs were sent over a network.\n",
            "Matrix Multiplication Result:\n",
            " {(0, 1): 0.47268518561234973, (0, 2): 1.331585175830705, (0, 4): 1.021351852495352, (0, 5): 0.9131445349756118, (0, 8): 1.0854341486196752, (0, 9): 0.3075827214969634, (0, 11): 1.003832121786526, (0, 12): 0.45686569948009204, (0, 15): 0.8918100486065025, (0, 16): 0.5041984539756577, (0, 18): 0.8286369376706371, (0, 19): 0.9717206052489281, (0, 22): 1.099447290027778, (0, 23): 0.5036027285086736, (0, 25): 1.395355376421955, (0, 26): 0.9624208429352515, (0, 29): 0.5962891831345462, (0, 32): 0.5959378597563265, (0, 33): 0.6976597508277623, (0, 36): 0.04441053975372091, (0, 39): 0.6117816957363831, (1, 0): 0.4197798780682388, (1, 1): 0.31678983211806466, (1, 3): 0.2905523671212979, (1, 4): 0.6256497395186525, (1, 7): 0.7423569849982339, (1, 10): 0.6607515214848413, (1, 11): 0.6015564366326857, (1, 14): 0.8685641215901408, (1, 17): 0.38345055566397046, (1, 18): 0.6792902693535021, (1, 21): 0.6236422180184992, (1, 24): 0.7086750406252602, (1, 25): 0.7688596237247428, (1, 27): 0.736800834888107, (1, 28): 0.664718513453437, (1, 31): 0.7309270183375837, (1, 32): 0.3026784538912303, (1, 34): 0.30129593506476826, (1, 35): 0.5869183504406636, (1, 38): 0.640511090327881, (1, 39): 0.3828100707402756, (0, 0): 0.5433583169304825, (0, 3): 0.4161166755448973, (0, 6): 1.108242866343397, (0, 7): 0.9192044873893017, (0, 10): 1.2033199367606149, (0, 13): 0.5999387683377239, (0, 14): 1.2088052633893558, (0, 17): 0.44049434373748003, (0, 20): 0.8975542155036819, (0, 21): 0.9487334190041795, (0, 24): 1.1766210234848822, (0, 27): 1.2681857559657606, (0, 28): 0.8600064973225919, (0, 30): 0.6637156920657984, (0, 31): 1.2142580651603863, (0, 34): 0.3527192821259462, (0, 35): 0.7303914708215375, (0, 37): 0.6277017935750313, (0, 38): 1.0286166545562356, (1, 2): 0.9090713770128865, (1, 5): 0.6862941972949815, (1, 6): 0.7210127836478518, (1, 8): 0.7799931671430935, (1, 9): 0.30218800431997034, (1, 12): 0.31205270496400545, (1, 13): 0.3485165170474275, (1, 15): 0.5757989578219744, (1, 16): 0.4455051197792513, (1, 19): 0.6085029432376949, (1, 20): 0.5779839282381534, (1, 22): 0.6882980684298883, (1, 23): 0.4298552533380888, (1, 26): 0.635016807180898, (1, 29): 0.5699444321567285, (1, 30): 0.5942377211512558, (1, 33): 0.636654250355516, (1, 36): 0.23696607758923507, (1, 37): 0.5583800893667771}\n"
          ]
        }
      ]
    },
    {
      "cell_type": "markdown",
      "metadata": {
        "id": "ZuSA2P9Db6UM"
      },
      "source": [
        "Обобщите предыдущее решение на случай, когда каждая матрица генерируется несколькими RECORDREADER-ами, и проверьте его работоспособность. Будет ли работать решение, если RECORDREADER-ы будут генерировать случайное подмножество элементов матрицы?"
      ]
    },
    {
      "cell_type": "code",
      "metadata": {
        "id": "ehN0FqRDcwU5",
        "colab": {
          "base_uri": "https://localhost:8080/"
        },
        "outputId": "e592db23-6fb8-45cd-8843-50e6900dff24"
      },
      "source": [
        "import numpy as np\n",
        "\n",
        "# Определение размеров матриц\n",
        "rows_matrix_a = 2\n",
        "cols_matrix_a = 3\n",
        "cols_matrix_b = 4 * 10\n",
        "\n",
        "# Генерация случайных матриц\n",
        "matrix_a = np.random.rand(rows_matrix_a, cols_matrix_a)\n",
        "matrix_b = np.random.rand(cols_matrix_a, cols_matrix_b)\n",
        "\n",
        "# Эталонный результат через стандартное умножение матриц\n",
        "expected_output = np.matmul(matrix_a, matrix_b)\n",
        "\n",
        "# Функция для \"разглаживания\" вложенных итерируемых объектов\n",
        "def flatten(nested_iterable):\n",
        "    for item in nested_iterable:\n",
        "        for subitem in item:\n",
        "            yield subitem\n",
        "\n",
        "# Функция для группировки элементов по ключу\n",
        "def group_by_key(iterable):\n",
        "    grouped = {}\n",
        "    for (key, value) in iterable:\n",
        "        grouped[key] = grouped.get(key, []) + [value]\n",
        "    return grouped.items()\n",
        "\n",
        "# Функция для распределенной группировки элементов по ключу\n",
        "def distributed_partition(map_partitions, partition_function):\n",
        "    global num_reducers\n",
        "    partitions = [dict() for _ in range(num_reducers)]\n",
        "    for partition in map_partitions:\n",
        "        for (key, value) in partition:\n",
        "            partition_list = partitions[partition_function(key)]\n",
        "            partition_list[key] = partition_list.get(key, []) + [value]\n",
        "    return [(partition_id, sorted(partition.items(), key=lambda x: x[0])) for partition_id, partition in enumerate(partitions)]\n",
        "\n",
        "# Функция для определения разделителя (по ключу)\n",
        "def partition_selector(obj):\n",
        "    global num_reducers\n",
        "    return hash(obj) % num_reducers\n",
        "\n",
        "# Функция для выполнения MapReduce на распределенных данных\n",
        "def distributed_mapreduce(input_provider, map_function, reduce_function, partition_function=partition_selector, combiner=None):\n",
        "    map_partitions = map(lambda reader: flatten(map(lambda kv: map_function(*kv), reader)), input_provider())\n",
        "\n",
        "    if combiner:\n",
        "        map_partitions = map(lambda partition: flatten(map(lambda kv: combiner(*kv), group_by_key(partition))), map_partitions)\n",
        "\n",
        "    reduce_partitions = distributed_partition(map_partitions, partition_function)\n",
        "\n",
        "    reduced_outputs = map(lambda partition: (partition[0], flatten(map(lambda group: reduce_function(*group), partition[1]))), reduce_partitions)\n",
        "\n",
        "    return reduced_outputs\n",
        "\n",
        "# Функция для преобразования REDUCE-выхода в матрицу\n",
        "def to_matrix(reduced_output):\n",
        "    reduced_output = list(reduced_output)\n",
        "    rows = max(i for ((i, k), value) in reduced_output) + 1\n",
        "    cols = max(k for ((i, k), value) in reduced_output) + 1\n",
        "    matrix_result = np.empty(shape=(rows, cols))\n",
        "    for ((i, k), value) in reduced_output:\n",
        "        matrix_result[i, k] = value\n",
        "    return matrix_result\n",
        "\n",
        "# Генератор для ввода данных\n",
        "def input_data():\n",
        "    data_a = []\n",
        "\n",
        "    for i in range(matrix_a.shape[0]):\n",
        "        for j in range(matrix_a.shape[1]):\n",
        "            data_a.append(((0, i, j), matrix_a[i, j]))  # Первая матрица\n",
        "\n",
        "    global num_mappers\n",
        "    chunk_size = int(np.ceil(len(data_a) / num_mappers))\n",
        "\n",
        "    for i in range(0, len(data_a), chunk_size):\n",
        "        yield data_a[i:i + chunk_size]\n",
        "\n",
        "    data_b = []\n",
        "\n",
        "    for j in range(matrix_b.shape[0]):\n",
        "        for k in range(matrix_b.shape[1]):\n",
        "            data_b.append(((1, j, k), matrix_b[j, k]))  # Вторая матрица\n",
        "\n",
        "    chunk_size = int(np.ceil(len(data_b) / num_mappers))\n",
        "\n",
        "    for i in range(0, len(data_b), chunk_size):\n",
        "        yield data_b[i:i + chunk_size]\n",
        "\n",
        "# MAP-функция для соединения матриц\n",
        "def join_map_function(key, value):\n",
        "    (matrix_id, i, j) = key\n",
        "    element = value\n",
        "\n",
        "    if matrix_id == 0:\n",
        "        yield (j, (matrix_id, i, element))\n",
        "    else:\n",
        "        yield (i, (matrix_id, j, element))\n",
        "\n",
        "# REDUCE-функция для соединения матриц\n",
        "def join_reduce_function(key, values):\n",
        "    matrix_a_elements = [v for v in values if v[0] == 0]\n",
        "    matrix_b_elements = [v for v in values if v[0] == 1]\n",
        "\n",
        "    for a_elem in matrix_a_elements:\n",
        "        for b_elem in matrix_b_elements:\n",
        "            yield ((a_elem[1], b_elem[1]), a_elem[2] * b_elem[2])\n",
        "\n",
        "# Генератор для получения объединенных данных\n",
        "def get_joined_data():\n",
        "    for item in joined_data:\n",
        "        yield item[1]\n",
        "\n",
        "# MAP-функция для передачи значений\n",
        "def multiplication_map_function(key, value):\n",
        "    yield (key, value)\n",
        "\n",
        "# REDUCE-функция для суммирования значений\n",
        "def multiplication_reduce_function(key, values):\n",
        "    total = 0\n",
        "\n",
        "    for val in values:\n",
        "        total += val\n",
        "    yield (key, total)\n",
        "\n",
        "num_mappers = 3\n",
        "num_reducers = 2\n",
        "\n",
        "# Выполнение MapReduce для соединения матриц\n",
        "partitioned_result = distributed_mapreduce(input_data, join_map_function, join_reduce_function, combiner=None)\n",
        "joined_data = [(partition_id, list(partition)) for partition_id, partition in partitioned_result]\n",
        "\n",
        "# Выполнение MapReduce для умножения значений\n",
        "multiplication_output = distributed_mapreduce(get_joined_data, multiplication_map_function, multiplication_reduce_function, combiner=None)\n",
        "pre_result = [(partition_id, list(partition)) for partition_id, partition in multiplication_output]\n",
        "\n",
        "# Формирование окончательного результата\n",
        "final_result = []\n",
        "\n",
        "for partition in pre_result:\n",
        "    for value in partition[1]:\n",
        "        final_result.append(value)\n",
        "\n",
        "# Проверка на соответствие с эталонным решением\n",
        "is_result_close = np.allclose(expected_output, to_matrix(final_result))\n",
        "\n",
        "# Вывод части матрицы\n",
        "result_matrix = to_matrix(final_result)\n",
        "print(\"Результат умножения матриц (первая и последняя строка):\")\n",
        "print(result_matrix[0])  # Первая строка\n",
        "print(result_matrix[-1])  # Последняя строка\n",
        "print(\"Сравнение с эталонным решением:\", is_result_close)\n",
        "\n"
      ],
      "execution_count": 69,
      "outputs": [
        {
          "output_type": "stream",
          "name": "stdout",
          "text": [
            "Результат умножения матриц (первая и последняя строка):\n",
            "[0.76297669 0.12634115 0.6231596  1.09131914 0.31992627 0.71671965\n",
            " 1.04442238 1.04414646 0.86452637 0.70794068 0.62148223 0.4417982\n",
            " 0.91327461 0.85955059 0.85767505 1.10999319 0.71212365 0.75631386\n",
            " 0.81355796 0.70741363 0.8064103  0.8541745  0.99737019 0.62318393\n",
            " 0.60657404 0.26118678 0.95438471 0.32988915 0.73488937 0.80918288\n",
            " 0.41005144 0.59314749 0.1558566  0.27505499 0.72071451 0.45912213\n",
            " 0.13479107 0.5114723  1.06968427 0.41064228]\n",
            "[1.23057179 0.20210192 0.73299819 1.37824387 0.70467077 1.18731333\n",
            " 1.44562747 1.7546595  1.31348039 0.72501421 1.20532402 0.85263036\n",
            " 1.21179633 1.12066193 0.96498958 1.52308862 1.11644083 1.37792744\n",
            " 0.84578768 0.9318483  1.19173359 1.07791162 1.2798951  1.30491628\n",
            " 1.14612965 0.69415626 1.87117636 0.97953737 1.44722403 1.50496154\n",
            " 0.6886336  0.60916879 0.42037259 0.74293971 0.53723468 0.78460963\n",
            " 0.16336247 0.55093071 1.81763528 0.79510005]\n",
            "Сравнение с эталонным решением: True\n"
          ]
        }
      ]
    }
  ]
}