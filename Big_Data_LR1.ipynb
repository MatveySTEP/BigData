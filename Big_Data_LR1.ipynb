{
  "nbformat": 4,
  "nbformat_minor": 0,
  "metadata": {
    "colab": {
      "provenance": [],
      "authorship_tag": "ABX9TyMzPDLt6pE1jMP8k+x3p50d",
      "include_colab_link": true
    },
    "kernelspec": {
      "name": "python3",
      "display_name": "Python 3"
    },
    "language_info": {
      "name": "python"
    }
  },
  "cells": [
    {
      "cell_type": "markdown",
      "metadata": {
        "id": "view-in-github",
        "colab_type": "text"
      },
      "source": [
        "<a href=\"https://colab.research.google.com/github/MatveySTEP/BigData/blob/main/Big_Data_LR1.ipynb\" target=\"_parent\"><img src=\"https://colab.research.google.com/assets/colab-badge.svg\" alt=\"Open In Colab\"/></a>"
      ]
    },
    {
      "cell_type": "code",
      "execution_count": null,
      "metadata": {
        "colab": {
          "base_uri": "https://localhost:8080/"
        },
        "id": "mMlFOIeGXHxe",
        "outputId": "f5dcb570-9f52-4cf7-8aae-ecf7e38158dc"
      },
      "outputs": [
        {
          "output_type": "stream",
          "name": "stdout",
          "text": [
            "  % Total    % Received % Xferd  Average Speed   Time    Time     Time  Current\n",
            "                                 Dload  Upload   Total   Spent    Left  Speed\n",
            "  0     0    0     0    0     0      0      0 --:--:-- --:--:-- --:--:--     0\n",
            "100  554M  100  554M    0     0  72.8M      0  0:00:07  0:00:07 --:--:-- 87.9M\n",
            "Archive:  dataset.zip\n",
            "  inflating: database.sqlite         \n",
            "  inflating: station.csv             \n",
            "  inflating: status.csv              \n",
            "  inflating: trip.csv                \n",
            "  inflating: weather.csv             \n"
          ]
        }
      ],
      "source": [
        "#!/bin/bash\n",
        "!curl -L -o dataset.zip https://www.kaggle.com/api/v1/datasets/download/benhamner/sf-bay-area-bike-share\n",
        "!unzip dataset.zip"
      ]
    },
    {
      "cell_type": "code",
      "source": [
        "from pyspark.sql import SparkSession\n",
        "from pyspark.sql.functions import col, unix_timestamp, sum as spark_sum, countDistinct, max as spark_max\n",
        "from pyspark.sql.functions import radians, cos, sin, sqrt, atan2\n",
        "from geopy.distance import geodesic\n",
        "\n",
        "# Создание сессии Spark\n",
        "spark = SparkSession.builder \\\n",
        "    .appName(\"BikeAnalysis\") \\\n",
        "    .config(\"spark.sql.legacy.timeParserPolicy\", \"LEGACY\") \\\n",
        "    .getOrCreate()\n",
        "\n",
        "# Читаем CSV-файлы\n",
        "trips_df = spark.read.option(\"header\", \"true\").csv(\"trip.csv\")\n",
        "stations_df = spark.read.option(\"header\", \"true\").csv(\"station.csv\")\n",
        "\n",
        "# Приводим нужные колонки к числовому типу (иначе они строки)\n",
        "stations_df = stations_df.withColumn(\"lat\", col(\"lat\").cast(\"double\")) \\\n",
        "                         .withColumn(\"long\", col(\"long\").cast(\"double\"))\n"
      ],
      "metadata": {
        "id": "CzJgey1EXZkS"
      },
      "execution_count": null,
      "outputs": []
    },
    {
      "cell_type": "markdown",
      "source": [
        "###Задание 1. Найти велосипед с максимальным временем пробега."
      ],
      "metadata": {
        "id": "I10alv-OXhlp"
      }
    },
    {
      "cell_type": "code",
      "source": [
        "\n",
        "# Преобразуем даты в метки времени и считаем длительность поездки в минутах\n",
        "trips_with_duration = trips_df.withColumn(\n",
        "    \"start_timestamp\", unix_timestamp(col(\"start_date\"), \"M/d/yyyy H:mm\")\n",
        ").withColumn(\n",
        "    \"end_timestamp\", unix_timestamp(col(\"end_date\"), \"M/d/yyyy H:mm\")\n",
        ").withColumn(\n",
        "    \"duration_minutes\", (col(\"end_timestamp\") - col(\"start_timestamp\")) / 60\n",
        ")\n",
        "\n",
        "# Группируем по bike_id и находим велосипед с максимальным временем пробега\n",
        "bike_max = trips_with_duration.groupBy(\"bike_id\").agg(\n",
        "    spark_sum(\"duration_minutes\").alias(\"total_minutes\")\n",
        ").orderBy(col(\"total_minutes\").desc()).limit(1)\n",
        "\n",
        "# Вывод результата\n",
        "bike_max.show()"
      ],
      "metadata": {
        "colab": {
          "base_uri": "https://localhost:8080/"
        },
        "id": "E-ylXeSQXg1N",
        "outputId": "662b1ca2-4635-4cd9-dacf-9c428ed95dc9"
      },
      "execution_count": null,
      "outputs": [
        {
          "output_type": "stream",
          "name": "stdout",
          "text": [
            "+-------+-------------+\n",
            "|bike_id|total_minutes|\n",
            "+-------+-------------+\n",
            "|    535|     310262.0|\n",
            "+-------+-------------+\n",
            "\n"
          ]
        }
      ]
    },
    {
      "cell_type": "markdown",
      "source": [
        "###Задание 2. Найти наибольшее геодезическое расстояние между станциями."
      ],
      "metadata": {
        "id": "nia4yYtVXlQV"
      }
    },
    {
      "cell_type": "code",
      "source": [
        "# Применяем геодезическое расстояние (формула Хаверсина)\n",
        "stations_list = stations_df.select(\"id\", \"lat\", \"long\").collect()\n",
        "max_distance = 0\n",
        "station_pair = None\n",
        "\n",
        "for i in range(len(stations_list)):\n",
        "    for j in range(i + 1, len(stations_list)):\n",
        "        s1, s2 = stations_list[i], stations_list[j]\n",
        "        dist = geodesic((s1[\"lat\"], s1[\"long\"]), (s2[\"lat\"], s2[\"long\"])).km\n",
        "        if dist > max_distance:\n",
        "            max_distance = dist\n",
        "            station_pair = (s1[\"id\"], s2[\"id\"])\n",
        "\n",
        "print(f\"Наибольшее расстояние: {max_distance:.2f} км между станциями {station_pair[0]} и {station_pair[1]}\")"
      ],
      "metadata": {
        "colab": {
          "base_uri": "https://localhost:8080/"
        },
        "id": "BEnO4cVWXlny",
        "outputId": "3e7e50fe-3c29-4b7e-e120-ea4e7291f15c"
      },
      "execution_count": null,
      "outputs": [
        {
          "output_type": "stream",
          "name": "stdout",
          "text": [
            "Наибольшее расстояние: 69.92 км между станциями 16 и 60\n"
          ]
        }
      ]
    },
    {
      "cell_type": "markdown",
      "source": [
        "###Задание 3. Найти путь велосипеда с максимальным временем пробега через станции."
      ],
      "metadata": {
        "id": "N26qAwhQXoWU"
      }
    },
    {
      "cell_type": "code",
      "source": [
        "# Получаем bike_id с максимальным пробегом\n",
        "bike_id_max = bike_max.collect()[0][\"bike_id\"]\n",
        "\n",
        "# Отбираем поездки для этого велосипеда и сортируем по start_date\n",
        "bike_trips = trips_with_duration.filter(col(\"bike_id\") == bike_id_max) \\\n",
        "    .select(\"start_date\", \"start_station_name\", \"end_date\", \"end_station_name\") \\\n",
        "    .orderBy(\"start_date\")\n",
        "\n",
        "# Выводим путь\n",
        "bike_trips.show(truncate=False)"
      ],
      "metadata": {
        "colab": {
          "base_uri": "https://localhost:8080/"
        },
        "id": "iIZYDZDfXn79",
        "outputId": "79dee422-e10b-43a2-9439-b9adf55543c6"
      },
      "execution_count": null,
      "outputs": [
        {
          "output_type": "stream",
          "name": "stdout",
          "text": [
            "+---------------+---------------------------------------------+---------------+---------------------------------------------+\n",
            "|start_date     |start_station_name                           |end_date       |end_station_name                             |\n",
            "+---------------+---------------------------------------------+---------------+---------------------------------------------+\n",
            "|1/1/2014 13:42 |Mechanics Plaza (Market at Battery)          |1/1/2014 14:36 |Embarcadero at Sansome                       |\n",
            "|1/1/2014 18:51 |Embarcadero at Sansome                       |1/1/2014 19:13 |Market at 4th                                |\n",
            "|1/1/2014 19:48 |Market at 4th                                |1/1/2014 20:01 |South Van Ness at Market                     |\n",
            "|1/10/2014 20:13|Market at 10th                               |1/10/2014 20:17|Powell Street BART                           |\n",
            "|1/10/2014 8:09 |Embarcadero at Folsom                        |1/10/2014 8:19 |San Francisco Caltrain (Townsend at 4th)     |\n",
            "|1/10/2014 8:21 |San Francisco Caltrain (Townsend at 4th)     |1/10/2014 8:31 |Temporary Transbay Terminal (Howard at Beale)|\n",
            "|1/10/2014 9:19 |Temporary Transbay Terminal (Howard at Beale)|1/10/2014 9:32 |Market at 10th                               |\n",
            "|1/11/2014 19:06|Powell Street BART                           |1/11/2014 19:11|Market at 10th                               |\n",
            "|1/12/2014 12:21|Market at 10th                               |1/12/2014 12:29|Market at 4th                                |\n",
            "|1/12/2014 17:36|Market at 4th                                |1/12/2014 17:58|San Francisco Caltrain (Townsend at 4th)     |\n",
            "|1/13/2014 17:04|Davis at Jackson                             |1/13/2014 17:06|Beale at Market                              |\n",
            "|1/13/2014 18:09|Beale at Market                              |1/13/2014 18:13|Davis at Jackson                             |\n",
            "|1/13/2014 6:43 |San Francisco Caltrain (Townsend at 4th)     |1/13/2014 6:54 |Embarcadero at Vallejo                       |\n",
            "|1/13/2014 8:20 |San Francisco Caltrain (Townsend at 4th)     |1/13/2014 8:31 |Market at Sansome                            |\n",
            "|1/13/2014 8:52 |Market at Sansome                            |1/13/2014 8:56 |Davis at Jackson                             |\n",
            "|1/14/2014 11:52|Howard at 2nd                                |1/14/2014 11:55|2nd at South Park                            |\n",
            "|1/14/2014 13:12|2nd at South Park                            |1/14/2014 13:14|2nd at Folsom                                |\n",
            "|1/14/2014 13:20|2nd at Folsom                                |1/14/2014 14:02|2nd at South Park                            |\n",
            "|1/14/2014 16:22|2nd at South Park                            |1/14/2014 16:26|San Francisco Caltrain (Townsend at 4th)     |\n",
            "|1/14/2014 20:23|San Francisco Caltrain (Townsend at 4th)     |1/14/2014 20:29|Embarcadero at Bryant                        |\n",
            "+---------------+---------------------------------------------+---------------+---------------------------------------------+\n",
            "only showing top 20 rows\n",
            "\n"
          ]
        }
      ]
    },
    {
      "cell_type": "markdown",
      "source": [
        "###Задание 4. Найти количество велосипедов в системе."
      ],
      "metadata": {
        "id": "lMVmIKoBXqyj"
      }
    },
    {
      "cell_type": "code",
      "source": [
        "\n",
        "# Используем countDistinct для подсчета уникальных bike_id\n",
        "bike_count = trips_df.select(countDistinct(\"bike_id\").alias(\"unique_bikes\"))\n",
        "\n",
        "# Вывод результата\n",
        "bike_count.show()"
      ],
      "metadata": {
        "colab": {
          "base_uri": "https://localhost:8080/"
        },
        "id": "qFOmkRRWXuxx",
        "outputId": "7469034e-944a-441f-d1a0-b707ef39a1af"
      },
      "execution_count": null,
      "outputs": [
        {
          "output_type": "stream",
          "name": "stdout",
          "text": [
            "+------------+\n",
            "|unique_bikes|\n",
            "+------------+\n",
            "|         700|\n",
            "+------------+\n",
            "\n"
          ]
        }
      ]
    },
    {
      "cell_type": "markdown",
      "source": [
        "###Задание 5. Найти пользователей потративших на поездки более 3 часов."
      ],
      "metadata": {
        "id": "ddp1Rq1tXxL0"
      }
    },
    {
      "cell_type": "code",
      "source": [
        "\n",
        "# Фильтруем строки без zip_code\n",
        "filtered_users = trips_with_duration.filter(col(\"zip_code\").isNotNull())\n",
        "\n",
        "# Группируем данные по zip_code и считаем общее время поездок\n",
        "user_time = filtered_users.groupBy(\"zip_code\").agg(\n",
        "    spark_sum(\"duration_minutes\").alias(\"total_minutes\")\n",
        ")\n",
        "\n",
        "# Фильтруем пользователей, потративших более 180 минут (3 часа) на поездки\n",
        "active_users = user_time.filter(col(\"total_minutes\") > 180)\n",
        "\n",
        "# Вывод результата\n",
        "active_users.show()"
      ],
      "metadata": {
        "colab": {
          "base_uri": "https://localhost:8080/"
        },
        "id": "R2se0qzDXxnU",
        "outputId": "78518551-de5d-4e44-9ad9-c59a1ee62e04"
      },
      "execution_count": null,
      "outputs": [
        {
          "output_type": "stream",
          "name": "stdout",
          "text": [
            "+--------+-------------+\n",
            "|zip_code|total_minutes|\n",
            "+--------+-------------+\n",
            "|   94102|     318746.0|\n",
            "|   95134|      12114.0|\n",
            "|   84606|       1583.0|\n",
            "|   80305|       3010.0|\n",
            "|   60070|        483.0|\n",
            "|   95519|        505.0|\n",
            "|   43085|        194.0|\n",
            "|   91910|        840.0|\n",
            "|   77339|        230.0|\n",
            "|   48063|        228.0|\n",
            "|   85022|        209.0|\n",
            "|    1090|        340.0|\n",
            "|    2136|        266.0|\n",
            "|   11722|        405.0|\n",
            "|   95138|       2583.0|\n",
            "|   94610|      60490.0|\n",
            "|   94404|      59813.0|\n",
            "|   80301|       2537.0|\n",
            "|   91326|       1096.0|\n",
            "|   90742|        183.0|\n",
            "+--------+-------------+\n",
            "only showing top 20 rows\n",
            "\n"
          ]
        }
      ]
    }
  ]
}